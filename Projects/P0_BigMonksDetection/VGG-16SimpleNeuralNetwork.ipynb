{
  "cells": [
    {
      "cell_type": "markdown",
      "metadata": {
        "id": "yK7ecnb6pKzp"
      },
      "source": [
        "## Pretrained Model Resnet50 for Transfer"
      ]
    },
    {
      "cell_type": "code",
      "source": [],
      "metadata": {
        "id": "4Et6Nx6G0t0R"
      },
      "execution_count": null,
      "outputs": []
    },
    {
      "cell_type": "code",
      "execution_count": 1,
      "metadata": {
        "colab": {
          "base_uri": "https://localhost:8080/",
          "height": 0
        },
        "id": "NLiV9smyMiD1",
        "outputId": "2cadef46-49df-492f-aef8-dcd183296ae2"
      },
      "outputs": [
        {
          "output_type": "stream",
          "name": "stdout",
          "text": [
            "Collecting optuna\n",
            "  Downloading optuna-4.0.0-py3-none-any.whl.metadata (16 kB)\n",
            "Collecting alembic>=1.5.0 (from optuna)\n",
            "  Downloading alembic-1.13.2-py3-none-any.whl.metadata (7.4 kB)\n",
            "Collecting colorlog (from optuna)\n",
            "  Downloading colorlog-6.8.2-py3-none-any.whl.metadata (10 kB)\n",
            "Requirement already satisfied: numpy in /usr/local/lib/python3.10/dist-packages (from optuna) (1.26.4)\n",
            "Requirement already satisfied: packaging>=20.0 in /usr/local/lib/python3.10/dist-packages (from optuna) (24.1)\n",
            "Requirement already satisfied: sqlalchemy>=1.3.0 in /usr/local/lib/python3.10/dist-packages (from optuna) (2.0.32)\n",
            "Requirement already satisfied: tqdm in /usr/local/lib/python3.10/dist-packages (from optuna) (4.66.5)\n",
            "Requirement already satisfied: PyYAML in /usr/local/lib/python3.10/dist-packages (from optuna) (6.0.2)\n",
            "Collecting Mako (from alembic>=1.5.0->optuna)\n",
            "  Downloading Mako-1.3.5-py3-none-any.whl.metadata (2.9 kB)\n",
            "Requirement already satisfied: typing-extensions>=4 in /usr/local/lib/python3.10/dist-packages (from alembic>=1.5.0->optuna) (4.12.2)\n",
            "Requirement already satisfied: greenlet!=0.4.17 in /usr/local/lib/python3.10/dist-packages (from sqlalchemy>=1.3.0->optuna) (3.0.3)\n",
            "Requirement already satisfied: MarkupSafe>=0.9.2 in /usr/local/lib/python3.10/dist-packages (from Mako->alembic>=1.5.0->optuna) (2.1.5)\n",
            "Downloading optuna-4.0.0-py3-none-any.whl (362 kB)\n",
            "\u001b[2K   \u001b[90m━━━━━━━━━━━━━━━━━━━━━━━━━━━━━━━━━━━━━━━━\u001b[0m \u001b[32m362.8/362.8 kB\u001b[0m \u001b[31m16.5 MB/s\u001b[0m eta \u001b[36m0:00:00\u001b[0m\n",
            "\u001b[?25hDownloading alembic-1.13.2-py3-none-any.whl (232 kB)\n",
            "\u001b[2K   \u001b[90m━━━━━━━━━━━━━━━━━━━━━━━━━━━━━━━━━━━━━━━━\u001b[0m \u001b[32m233.0/233.0 kB\u001b[0m \u001b[31m12.8 MB/s\u001b[0m eta \u001b[36m0:00:00\u001b[0m\n",
            "\u001b[?25hDownloading colorlog-6.8.2-py3-none-any.whl (11 kB)\n",
            "Downloading Mako-1.3.5-py3-none-any.whl (78 kB)\n",
            "\u001b[2K   \u001b[90m━━━━━━━━━━━━━━━━━━━━━━━━━━━━━━━━━━━━━━━━\u001b[0m \u001b[32m78.6/78.6 kB\u001b[0m \u001b[31m5.6 MB/s\u001b[0m eta \u001b[36m0:00:00\u001b[0m\n",
            "\u001b[?25hInstalling collected packages: Mako, colorlog, alembic, optuna\n",
            "Successfully installed Mako-1.3.5 alembic-1.13.2 colorlog-6.8.2 optuna-4.0.0\n"
          ]
        }
      ],
      "source": [
        "!pip install optuna\n",
        "import urllib\n",
        "import numpy as np\n",
        "import tensorflow as tf\n",
        "import optuna\n",
        "from sklearn.model_selection import train_test_split\n",
        "from tensorflow.keras.layers import GlobalAveragePooling2D, Dense\n",
        "from tensorflow.keras.models import Model\n",
        "from tensorflow.keras.metrics import AUC\n",
        "from tensorflow.keras.preprocessing.image import img_to_array, load_img"
      ]
    },
    {
      "cell_type": "code",
      "execution_count": 2,
      "metadata": {
        "id": "TFSU3FCOpKzu"
      },
      "outputs": [],
      "source": [
        "import sys\n",
        "assert sys.version_info >= (3, 7)\n",
        "\n",
        "from packaging import version\n",
        "import sklearn\n",
        "assert version.parse(sklearn.__version__) >= version.parse(\"1.0.1\")\n",
        "\n",
        "import tensorflow as tf\n",
        "assert version.parse(tf.__version__) >= version.parse(\"2.8.0\")\n",
        "\n",
        "import numpy as np"
      ]
    },
    {
      "cell_type": "code",
      "execution_count": 3,
      "metadata": {
        "id": "erUg90jBZs2s"
      },
      "outputs": [],
      "source": [
        "from tensorflow.keras.applications import VGG16\n",
        "from tensorflow.keras.models import Model\n",
        "from tensorflow.keras.layers import GlobalAveragePooling2D, Dense\n",
        "from tensorflow.keras.regularizers import l2\n",
        "from tensorflow.keras.optimizers import Adam, RMSprop\n",
        "import optuna\n",
        "from sklearn.model_selection import train_test_split\n",
        "import urllib"
      ]
    },
    {
      "cell_type": "code",
      "execution_count": 4,
      "metadata": {
        "colab": {
          "base_uri": "https://localhost:8080/",
          "height": 0
        },
        "id": "MaWy-G0gMiG9",
        "outputId": "21fd7340-d9cc-4e90-eb77-847eabb4569e"
      },
      "outputs": [
        {
          "output_type": "execute_result",
          "data": {
            "text/plain": [
              "('ImportImagenes.py', <http.client.HTTPMessage at 0x79dd724f7c70>)"
            ]
          },
          "metadata": {},
          "execution_count": 4
        }
      ],
      "source": [
        "urllib.request.urlretrieve(\n",
        "    'https://raw.githubusercontent.com/sergiomora03/AdvancedTopicsAnalytics/main/notebooks/img/ImportImagenesURL.py',\n",
        "    'ImportImagenes.py'\n",
        ")"
      ]
    },
    {
      "cell_type": "code",
      "execution_count": 5,
      "metadata": {
        "id": "uatAwKYQMiNc"
      },
      "outputs": [],
      "source": [
        "from ImportImagenes import *"
      ]
    },
    {
      "cell_type": "code",
      "execution_count": 6,
      "metadata": {
        "id": "7l8sA9JKMiOr"
      },
      "outputs": [],
      "source": [
        "X, Y = import_imagenes()"
      ]
    },
    {
      "cell_type": "code",
      "execution_count": 7,
      "metadata": {
        "colab": {
          "base_uri": "https://localhost:8080/",
          "height": 0
        },
        "id": "u1c51aZMNWQc",
        "outputId": "2c435887-1f12-4ceb-c3ae-ecb7bae761e3"
      },
      "outputs": [
        {
          "output_type": "stream",
          "name": "stdout",
          "text": [
            "X shape: (14700, 250)\n",
            "Y shape: (1, 250)\n"
          ]
        }
      ],
      "source": [
        "print(\"X shape:\", X.shape)\n",
        "print(\"Y shape:\", Y.shape)"
      ]
    },
    {
      "cell_type": "code",
      "execution_count": 8,
      "metadata": {
        "id": "hyi2-QQMMiZf"
      },
      "outputs": [],
      "source": [
        "CE_x, CV_x, CE_y, CV_y = train_test_split(X.T, Y.T, test_size=0.3, random_state=100)"
      ]
    },
    {
      "cell_type": "code",
      "execution_count": 9,
      "metadata": {
        "id": "W6-LHFGCMidi"
      },
      "outputs": [],
      "source": [
        "#Redimensionar las imágenes para el modelo\n",
        "def resize_images(images, target_size):\n",
        "    resized_images = np.empty((images.shape[0], *target_size, 3))\n",
        "    for i in range(images.shape[0]):\n",
        "        img = images[i].reshape((70, 70, 3))  # Suponiendo que las imágenes están en 70x70\n",
        "        img = tf.image.resize(img, target_size)\n",
        "        resized_images[i] = img\n",
        "    return resized_images"
      ]
    },
    {
      "cell_type": "code",
      "execution_count": 10,
      "metadata": {
        "id": "qS7SDUsbMif0"
      },
      "outputs": [],
      "source": [
        "# Redimensionar imágenes a (224, 224) para VGG16\n",
        "target_size = (224, 224)\n",
        "CE_x_resized = resize_images(CE_x, target_size)\n",
        "CV_x_resized = resize_images(CV_x, target_size)"
      ]
    },
    {
      "cell_type": "code",
      "execution_count": 11,
      "metadata": {
        "colab": {
          "base_uri": "https://localhost:8080/",
          "height": 0
        },
        "id": "VLOJzidiOCpx",
        "outputId": "96a1b0bc-9b64-4a78-c127-a628b895f48f"
      },
      "outputs": [
        {
          "output_type": "stream",
          "name": "stdout",
          "text": [
            "Forma de CE_x_resized: (175, 224, 224, 3)\n",
            "Forma de CV_x_resized: (75, 224, 224, 3)\n",
            "Forma de CE_y: (175, 1)\n",
            "Forma de CV_y: (75, 1)\n"
          ]
        }
      ],
      "source": [
        "# Verificar tamaños de las imágenes redimensionadas\n",
        "print(\"Forma de CE_x_resized:\", CE_x_resized.shape)\n",
        "print(\"Forma de CV_x_resized:\", CV_x_resized.shape)\n",
        "print(\"Forma de CE_y:\", CE_y.shape)\n",
        "print(\"Forma de CV_y:\", CV_y.shape)"
      ]
    },
    {
      "cell_type": "code",
      "execution_count": 23,
      "metadata": {
        "id": "2LoPpBOLWnQM"
      },
      "outputs": [],
      "source": [
        "# Función objetivo para Optuna\n",
        "def objective(trial):\n",
        "    # Valores de hiperparámetros sugeridos\n",
        "    num_dense_units = trial.suggest_int('num_dense_units', 128, 512)\n",
        "    activation = trial.suggest_categorical('activation', ['relu', 'tanh'])\n",
        "    l2_reg = trial.suggest_loguniform('l2_reg', 1e-6, 1e-2)\n",
        "    optimizer_name = trial.suggest_categorical('optimizer', ['adam', 'rmsprop'])\n",
        "    epochs = trial.suggest_int('epochs', 5, 10)  # Número de épocas\n",
        "\n",
        "    # Cargar el modelo base sin la parte superior (top)\n",
        "    base_model = VGG16(weights=\"imagenet\", include_top=False, input_shape=(224, 224, 3))\n",
        "\n",
        "    # Agregar nuevas capas\n",
        "    x = base_model.output\n",
        "    x = GlobalAveragePooling2D()(x)\n",
        "    x = Dense(num_dense_units, activation=activation, kernel_regularizer=l2(l2_reg))(x)\n",
        "    predictions = Dense(1, activation='sigmoid')(x)  # 1 salida para clasificación binaria\n",
        "\n",
        "    model = Model(inputs=base_model.input, outputs=predictions)\n",
        "\n",
        "    # Congelar las capas base del modelo\n",
        "    for layer in base_model.layers:\n",
        "        layer.trainable = False\n",
        "\n",
        "    # Configurar el optimizador\n",
        "    lr = trial.suggest_loguniform('lr', 1e-6, 1e-1)  # learning rate\n",
        "    if optimizer_name == 'adam':\n",
        "        optimizer = Adam(learning_rate=lr)\n",
        "    else:\n",
        "        optimizer = RMSprop(learning_rate=lr)\n",
        "\n",
        "    # Compilar el modelo con AUC como métrica\n",
        "    model.compile(loss='binary_crossentropy', optimizer=optimizer, metrics=[tf.keras.metrics.AUC(name='auc')])\n",
        "\n",
        "\n",
        "    # Entrenar el modelo\n",
        "    history = model.fit(CE_x_resized, CE_y,\n",
        "                        epochs=epochs,\n",
        "                        batch_size=32,  # Puedes ajustar esto también si es necesario\n",
        "                        validation_data=(CV_x_resized, CV_y),\n",
        "                        verbose=0)  # 'verbose=0' para evitar salida de entrenamiento\n",
        "\n",
        "    # Evaluar el modelo en el conjunto de validación\n",
        "    loss, accuracy = model.evaluate(CV_x_resized, CV_y, verbose=0)\n",
        "\n",
        "    # Optuna busca maximizar la precisión, así que devolvemos la precisión\n",
        "    return accuracy\n"
      ]
    },
    {
      "cell_type": "code",
      "execution_count": 24,
      "metadata": {
        "colab": {
          "base_uri": "https://localhost:8080/",
          "height": 0
        },
        "id": "kS7dZdqMZb32",
        "outputId": "8fbab005-e42c-4db3-d7a2-8ce7bb3191e4"
      },
      "outputs": [
        {
          "output_type": "stream",
          "name": "stderr",
          "text": [
            "[I 2024-09-04 02:28:15,196] A new study created in memory with name: no-name-94958fda-e7fd-4a38-8212-66bd20c6edd0\n",
            "<ipython-input-23-c7ee46fd5b71>:6: FutureWarning: suggest_loguniform has been deprecated in v3.0.0. This feature will be removed in v6.0.0. See https://github.com/optuna/optuna/releases/tag/v3.0.0. Use suggest_float(..., log=True) instead.\n",
            "  l2_reg = trial.suggest_loguniform('l2_reg', 1e-6, 1e-2)\n",
            "<ipython-input-23-c7ee46fd5b71>:26: FutureWarning: suggest_loguniform has been deprecated in v3.0.0. This feature will be removed in v6.0.0. See https://github.com/optuna/optuna/releases/tag/v3.0.0. Use suggest_float(..., log=True) instead.\n",
            "  lr = trial.suggest_loguniform('lr', 1e-6, 1e-1)  # learning rate\n",
            "[I 2024-09-04 02:28:35,055] Trial 0 finished with value: 0.7347384095191956 and parameters: {'num_dense_units': 341, 'activation': 'relu', 'l2_reg': 0.003058754019102797, 'optimizer': 'adam', 'epochs': 7, 'lr': 1.7689818223001673e-06}. Best is trial 0 with value: 0.7347384095191956.\n",
            "[I 2024-09-04 02:28:52,098] Trial 1 finished with value: 0.7605377435684204 and parameters: {'num_dense_units': 443, 'activation': 'relu', 'l2_reg': 3.6268752692834254e-05, 'optimizer': 'adam', 'epochs': 8, 'lr': 2.0525894584753237e-06}. Best is trial 1 with value: 0.7605377435684204.\n",
            "[I 2024-09-04 02:29:16,179] Trial 2 finished with value: 0.8208575248718262 and parameters: {'num_dense_units': 369, 'activation': 'tanh', 'l2_reg': 9.801110583858983e-05, 'optimizer': 'adam', 'epochs': 9, 'lr': 4.115902054760266e-05}. Best is trial 2 with value: 0.8208575248718262.\n",
            "[I 2024-09-04 02:29:29,688] Trial 3 finished with value: 0.5 and parameters: {'num_dense_units': 213, 'activation': 'tanh', 'l2_reg': 8.176214884422652e-06, 'optimizer': 'rmsprop', 'epochs': 5, 'lr': 0.029304763964798104}. Best is trial 2 with value: 0.8208575248718262.\n",
            "[I 2024-09-04 02:29:48,566] Trial 4 finished with value: 0.7957848906517029 and parameters: {'num_dense_units': 321, 'activation': 'tanh', 'l2_reg': 0.00032603638537704867, 'optimizer': 'rmsprop', 'epochs': 9, 'lr': 0.00011079952877819509}. Best is trial 2 with value: 0.8208575248718262.\n",
            "[I 2024-09-04 02:30:07,595] Trial 5 finished with value: 0.2750726640224457 and parameters: {'num_dense_units': 304, 'activation': 'tanh', 'l2_reg': 0.003424758337653578, 'optimizer': 'rmsprop', 'epochs': 7, 'lr': 1.1366960754197139e-05}. Best is trial 2 with value: 0.8208575248718262.\n",
            "[I 2024-09-04 02:30:22,238] Trial 6 finished with value: 0.45530521869659424 and parameters: {'num_dense_units': 143, 'activation': 'tanh', 'l2_reg': 9.918846170587548e-05, 'optimizer': 'adam', 'epochs': 6, 'lr': 1.2458134189906975e-05}. Best is trial 2 with value: 0.8208575248718262.\n",
            "[I 2024-09-04 02:30:39,081] Trial 7 finished with value: 0.7569040656089783 and parameters: {'num_dense_units': 275, 'activation': 'relu', 'l2_reg': 0.0003175166351258932, 'optimizer': 'adam', 'epochs': 5, 'lr': 6.899914510383371e-06}. Best is trial 2 with value: 0.8208575248718262.\n",
            "[I 2024-09-04 02:31:02,574] Trial 8 finished with value: 0.8702760934829712 and parameters: {'num_dense_units': 502, 'activation': 'tanh', 'l2_reg': 9.507299889625621e-05, 'optimizer': 'adam', 'epochs': 7, 'lr': 0.000528435615539255}. Best is trial 8 with value: 0.8702760934829712.\n",
            "[I 2024-09-04 02:31:23,006] Trial 9 finished with value: 0.8564680218696594 and parameters: {'num_dense_units': 420, 'activation': 'relu', 'l2_reg': 0.0009554670313165453, 'optimizer': 'rmsprop', 'epochs': 6, 'lr': 0.0019177978745276861}. Best is trial 8 with value: 0.8702760934829712.\n"
          ]
        }
      ],
      "source": [
        "# Crear un estudio de Optuna y optimizar\n",
        "study = optuna.create_study(direction='maximize')  # Maximizar la precisión\n",
        "study.optimize(objective, n_trials=10)  # Número de pruebas reducido para pruebas rápidas\n"
      ]
    },
    {
      "cell_type": "code",
      "execution_count": 26,
      "metadata": {
        "id": "QPWJh2THbHpT",
        "colab": {
          "base_uri": "https://localhost:8080/",
          "height": 0
        },
        "outputId": "62556881-2767-45b6-94f7-6e9998844384"
      },
      "outputs": [
        {
          "output_type": "stream",
          "name": "stdout",
          "text": [
            "Mejores hiperparámetros encontrados:\n",
            "{'num_dense_units': 502, 'activation': 'tanh', 'l2_reg': 9.507299889625621e-05, 'optimizer': 'adam', 'epochs': 7, 'lr': 0.000528435615539255}\n",
            "Mejor AUC encontrado: 0.8702760934829712\n"
          ]
        }
      ],
      "source": [
        "# Imprimir los mejores hiperparámetros encontrados\n",
        "print(\"Mejores hiperparámetros encontrados:\")\n",
        "print(study.best_params)\n",
        "\n",
        "# Mostrar el mejor resultado\n",
        "print(f\"Mejor AUC encontrado: {study.best_value}\")"
      ]
    },
    {
      "cell_type": "code",
      "execution_count": 27,
      "metadata": {
        "id": "Q4Wfo902bOZ5"
      },
      "outputs": [],
      "source": [
        "# Definir el mejor conjunto de hiperparámetros\n",
        "best_params = study.best_params"
      ]
    },
    {
      "cell_type": "code",
      "execution_count": 28,
      "metadata": {
        "id": "AcUf4HacbSvm"
      },
      "outputs": [],
      "source": [
        "# Cargar el modelo base sin la parte superior (top) con los mejores hiperparámetros\n",
        "base_model = VGG16(weights=\"imagenet\", include_top=False, input_shape=(224, 224, 3))\n"
      ]
    },
    {
      "cell_type": "code",
      "execution_count": 29,
      "metadata": {
        "id": "GTCg0K2YbTJI"
      },
      "outputs": [],
      "source": [
        "# Agregar nuevas capas con los mejores hiperparámetros\n",
        "x = base_model.output\n",
        "x = GlobalAveragePooling2D()(x)\n",
        "x = Dense(best_params['num_dense_units'], activation=best_params['activation'], kernel_regularizer=l2(best_params['l2_reg']))(x)\n",
        "predictions = Dense(1, activation='sigmoid')(x)  # 1 salida para clasificación binaria\n"
      ]
    },
    {
      "cell_type": "code",
      "execution_count": 30,
      "metadata": {
        "id": "wbHZkmZIbdV1"
      },
      "outputs": [],
      "source": [
        "# Crear el modelo\n",
        "model = Model(inputs=base_model.input, outputs=predictions)\n",
        "\n",
        "# Congelar las capas base del modelo\n",
        "for layer in base_model.layers:\n",
        "    layer.trainable = False"
      ]
    },
    {
      "cell_type": "code",
      "execution_count": 31,
      "metadata": {
        "id": "wgpmBMiXbfPb"
      },
      "outputs": [],
      "source": [
        "# Configurar el optimizador con el mejor learning rate\n",
        "if best_params['optimizer'] == 'adam':\n",
        "    optimizer = Adam(learning_rate=best_params['lr'])\n",
        "else:\n",
        "    optimizer = RMSprop(learning_rate=best_params['lr'])"
      ]
    },
    {
      "cell_type": "code",
      "source": [
        "model.compile(loss='binary_crossentropy', optimizer=optimizer, metrics=[tf.keras.metrics.AUC(name='auc')])\n",
        "\n",
        "\n",
        "# Entrenar el modelo con el conjunto completo de entrenamiento\n",
        "model.fit(CE_x_resized, CE_y,\n",
        "          epochs=best_params['epochs'],\n",
        "          batch_size=32,  # Puedes ajustar esto también si es necesario\n",
        "          validation_data=(CV_x_resized, CV_y))\n",
        "\n",
        "# Evaluar el modelo en el conjunto de validación\n",
        "loss, accuracy = model.evaluate(CE_x_resized, CE_y)\n",
        "print(f'Pérdida en el conjunto de entrenamiento: {loss}')\n",
        "print(f'Precisión en el conjunto de entrenamiento: {accuracy}')"
      ],
      "metadata": {
        "colab": {
          "base_uri": "https://localhost:8080/",
          "height": 0
        },
        "id": "BdHn20AQ5s2P",
        "outputId": "c5396053-b224-4a41-8aa0-0c1b36439500"
      },
      "execution_count": 35,
      "outputs": [
        {
          "output_type": "stream",
          "name": "stdout",
          "text": [
            "Epoch 1/7\n",
            "\u001b[1m6/6\u001b[0m \u001b[32m━━━━━━━━━━━━━━━━━━━━\u001b[0m\u001b[37m\u001b[0m \u001b[1m6s\u001b[0m 891ms/step - auc: 0.9703 - loss: 0.3437 - val_auc: 0.9480 - val_loss: 0.3778\n",
            "Epoch 2/7\n",
            "\u001b[1m6/6\u001b[0m \u001b[32m━━━━━━━━━━━━━━━━━━━━\u001b[0m\u001b[37m\u001b[0m \u001b[1m1s\u001b[0m 202ms/step - auc: 0.9737 - loss: 0.3308 - val_auc: 0.9506 - val_loss: 0.3665\n",
            "Epoch 3/7\n",
            "\u001b[1m6/6\u001b[0m \u001b[32m━━━━━━━━━━━━━━━━━━━━\u001b[0m\u001b[37m\u001b[0m \u001b[1m2s\u001b[0m 259ms/step - auc: 0.9707 - loss: 0.3210 - val_auc: 0.9517 - val_loss: 0.3654\n",
            "Epoch 4/7\n",
            "\u001b[1m6/6\u001b[0m \u001b[32m━━━━━━━━━━━━━━━━━━━━\u001b[0m\u001b[37m\u001b[0m \u001b[1m3s\u001b[0m 256ms/step - auc: 0.9592 - loss: 0.3419 - val_auc: 0.9535 - val_loss: 0.3599\n",
            "Epoch 5/7\n",
            "\u001b[1m6/6\u001b[0m \u001b[32m━━━━━━━━━━━━━━━━━━━━\u001b[0m\u001b[37m\u001b[0m \u001b[1m2s\u001b[0m 201ms/step - auc: 0.9776 - loss: 0.2933 - val_auc: 0.9546 - val_loss: 0.3726\n",
            "Epoch 6/7\n",
            "\u001b[1m6/6\u001b[0m \u001b[32m━━━━━━━━━━━━━━━━━━━━\u001b[0m\u001b[37m\u001b[0m \u001b[1m1s\u001b[0m 259ms/step - auc: 0.9728 - loss: 0.2976 - val_auc: 0.9557 - val_loss: 0.3511\n",
            "Epoch 7/7\n",
            "\u001b[1m6/6\u001b[0m \u001b[32m━━━━━━━━━━━━━━━━━━━━\u001b[0m\u001b[37m\u001b[0m \u001b[1m1s\u001b[0m 262ms/step - auc: 0.9779 - loss: 0.2988 - val_auc: 0.9568 - val_loss: 0.3480\n",
            "\u001b[1m6/6\u001b[0m \u001b[32m━━━━━━━━━━━━━━━━━━━━\u001b[0m\u001b[37m\u001b[0m \u001b[1m1s\u001b[0m 214ms/step - auc: 0.9757 - loss: 0.2862\n",
            "Pérdida en el conjunto de entrenamiento: 0.2909061014652252\n",
            "Precisión en el conjunto de entrenamiento: 0.9749530553817749\n"
          ]
        }
      ]
    },
    {
      "cell_type": "code",
      "execution_count": 32,
      "metadata": {
        "id": "1bRZi5PEbTP6",
        "colab": {
          "base_uri": "https://localhost:8080/",
          "height": 0
        },
        "outputId": "a7ed6c62-c715-4f74-dfc0-12fbb26894d0"
      },
      "outputs": [
        {
          "output_type": "stream",
          "name": "stdout",
          "text": [
            "Epoch 1/7\n",
            "\u001b[1m6/6\u001b[0m \u001b[32m━━━━━━━━━━━━━━━━━━━━\u001b[0m\u001b[37m\u001b[0m \u001b[1m7s\u001b[0m 982ms/step - auc: 0.5412 - loss: 0.7597 - val_auc: 0.8165 - val_loss: 0.6767\n",
            "Epoch 2/7\n",
            "\u001b[1m6/6\u001b[0m \u001b[32m━━━━━━━━━━━━━━━━━━━━\u001b[0m\u001b[37m\u001b[0m \u001b[1m1s\u001b[0m 217ms/step - auc: 0.7609 - loss: 0.6783 - val_auc: 0.8219 - val_loss: 0.6306\n",
            "Epoch 3/7\n",
            "\u001b[1m6/6\u001b[0m \u001b[32m━━━━━━━━━━━━━━━━━━━━\u001b[0m\u001b[37m\u001b[0m \u001b[1m1s\u001b[0m 218ms/step - auc: 0.8161 - loss: 0.6236 - val_auc: 0.8190 - val_loss: 0.5989\n",
            "Epoch 4/7\n",
            "\u001b[1m6/6\u001b[0m \u001b[32m━━━━━━━━━━━━━━━━━━━━\u001b[0m\u001b[37m\u001b[0m \u001b[1m3s\u001b[0m 222ms/step - auc: 0.7791 - loss: 0.6119 - val_auc: 0.8296 - val_loss: 0.5778\n",
            "Epoch 5/7\n",
            "\u001b[1m6/6\u001b[0m \u001b[32m━━━━━━━━━━━━━━━━━━━━\u001b[0m\u001b[37m\u001b[0m \u001b[1m3s\u001b[0m 270ms/step - auc: 0.8448 - loss: 0.5544 - val_auc: 0.8365 - val_loss: 0.5581\n",
            "Epoch 6/7\n",
            "\u001b[1m6/6\u001b[0m \u001b[32m━━━━━━━━━━━━━━━━━━━━\u001b[0m\u001b[37m\u001b[0m \u001b[1m2s\u001b[0m 266ms/step - auc: 0.8182 - loss: 0.5644 - val_auc: 0.8499 - val_loss: 0.5464\n",
            "Epoch 7/7\n",
            "\u001b[1m6/6\u001b[0m \u001b[32m━━━━━━━━━━━━━━━━━━━━\u001b[0m\u001b[37m\u001b[0m \u001b[1m2s\u001b[0m 279ms/step - auc: 0.8117 - loss: 0.5716 - val_auc: 0.8750 - val_loss: 0.5244\n",
            "\u001b[1m3/3\u001b[0m \u001b[32m━━━━━━━━━━━━━━━━━━━━\u001b[0m\u001b[37m\u001b[0m \u001b[1m0s\u001b[0m 117ms/step - auc: 0.8764 - loss: 0.5080\n",
            "Pérdida en el conjunto de validación: 0.5243967175483704\n",
            "Precisión en el conjunto de validación: 0.875\n"
          ]
        }
      ],
      "source": [
        "# Compilar el modelo\n",
        "model.compile(loss='binary_crossentropy', optimizer=optimizer, metrics=[tf.keras.metrics.AUC(name='auc')])\n",
        "\n",
        "\n",
        "# Entrenar el modelo con el conjunto completo de entrenamiento\n",
        "model.fit(CE_x_resized, CE_y,\n",
        "          epochs=best_params['epochs'],\n",
        "          batch_size=32,  # Puedes ajustar esto también si es necesario\n",
        "          validation_data=(CV_x_resized, CV_y))\n",
        "\n",
        "# Evaluar el modelo en el conjunto de validación\n",
        "loss, accuracy = model.evaluate(CV_x_resized, CV_y)\n",
        "print(f'Pérdida en el conjunto de validación: {loss}')\n",
        "print(f'Precisión en el conjunto de validación: {accuracy}')"
      ]
    },
    {
      "cell_type": "code",
      "execution_count": null,
      "metadata": {
        "id": "hrCZP8MAZSEi"
      },
      "outputs": [],
      "source": []
    },
    {
      "cell_type": "code",
      "execution_count": null,
      "metadata": {
        "id": "3lFuFJ9xVRko"
      },
      "outputs": [],
      "source": []
    },
    {
      "cell_type": "code",
      "execution_count": null,
      "metadata": {
        "id": "tpGSI_FTVRna"
      },
      "outputs": [],
      "source": []
    }
  ],
  "metadata": {
    "accelerator": "GPU",
    "colab": {
      "gpuType": "T4",
      "provenance": []
    },
    "kernelspec": {
      "display_name": "Python 3",
      "name": "python3"
    },
    "language_info": {
      "codemirror_mode": {
        "name": "ipython",
        "version": 3
      },
      "file_extension": ".py",
      "mimetype": "text/x-python",
      "name": "python",
      "nbconvert_exporter": "python",
      "pygments_lexer": "ipython3",
      "version": "3.12.4"
    },
    "nav_menu": {},
    "toc": {
      "navigate_menu": true,
      "number_sections": true,
      "sideBar": true,
      "threshold": 6,
      "toc_cell": false,
      "toc_section_display": "block",
      "toc_window_display": false
    }
  },
  "nbformat": 4,
  "nbformat_minor": 0
}