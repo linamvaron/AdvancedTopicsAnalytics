{
  "cells": [
    {
      "cell_type": "markdown",
      "metadata": {
        "id": "view-in-github"
      },
      "source": [
        "<a href=\"https://colab.research.google.com/github/sergiomora03/AdvancedTopicsAnalytics/blob/main/exercises/E2-HomeworksAnalysis.ipynb\" target=\"_parent\"><img src=\"https://colab.research.google.com/assets/colab-badge.svg\" alt=\"Open In Colab\"/></a>"
      ]
    },
    {
      "cell_type": "markdown",
      "metadata": {
        "id": "4XfOzvx0N1sG"
      },
      "source": [
        "# Exercise 2\n",
        "\n",
        "## Analyze class homeworks\n"
      ]
    },
    {
      "cell_type": "code",
      "execution_count": 101,
      "metadata": {
        "colab": {
          "base_uri": "https://localhost:8080/",
          "height": 310
        },
        "id": "zKGkFLNHN1sK",
        "outputId": "8b328c3d-b538-4848-f615-fcce7e745e1c"
      },
      "outputs": [
        {
          "output_type": "execute_result",
          "data": {
            "text/plain": [
              "  Genero              E1 - Examples of Time Series Analysis  \\\n",
              "0      M  One of the most valuable application of time s...   \n",
              "1      F  ANÁLISIS DE SERIES DE TIEMPO – USOS \\nEl análi...   \n",
              "2      M  Una serie de tiempo es una colección de datos ...   \n",
              "3      M  \\nGiven that Time Series Analysis allows to un...   \n",
              "4      M  Time Series Analysis is concerned with the stu...   \n",
              "\n",
              "                                     E4 - Panel Data  \\\n",
              "0  The main difference between panel data and tim...   \n",
              "1  Series de Tiempo vs Datos en Panel\\nUna serie ...   \n",
              "2                                                NaN   \n",
              "3  The difference between panel data and time ser...   \n",
              "4  A time series is represented by a variable or ...   \n",
              "\n",
              "                                  E6 - Decison Trees  \\\n",
              "0  Decision tree are a model used by the analytic...   \n",
              "1  TIPOS DE ÁRBOLES DE DECISIÓN Y APLICACIONES\\nL...   \n",
              "2  los arboles de decisión hacen parte de los alg...   \n",
              "3  Decision Trees Algorithms are machine function...   \n",
              "4  Decision trees are a popular supervised machin...   \n",
              "\n",
              "                        E8 - Ensemble Trees Overview  \\\n",
              "0  They are used to make a better prediction than...   \n",
              "1  ENSAMBLAJE EN MACHINE LEARNING\\nLos métodos de...   \n",
              "2  Ensemble methods is a machine learning techniq...   \n",
              "3  Ensemble methods in Tree Decision algorithms b...   \n",
              "4  The ensemble method is a combination of severa...   \n",
              "\n",
              "                                      E10 - REST-API  \\\n",
              "0  Es una forma de arquitectura de datos. Los mic...   \n",
              "1  Microservicios\\nEl objetivo principal de la im...   \n",
              "2  El enfoque tradicional para el diseño de aplic...   \n",
              "3  Micro-services are defined as a type of softwa...   \n",
              "4  A microservice is a type of information techno...   \n",
              "\n",
              "          E11 - Natural Language Processing Overview  \n",
              "0                                                NaN  \n",
              "1                                                NaN  \n",
              "2  LexisNexis launched Lexis Analytics, a legal r...  \n",
              "3                                                NaN  \n",
              "4  A commercial product which uses Natural Langua...  "
            ],
            "text/html": [
              "\n",
              "  <div id=\"df-b60206bd-5779-4bd6-a417-166f6c45ecab\" class=\"colab-df-container\">\n",
              "    <div>\n",
              "<style scoped>\n",
              "    .dataframe tbody tr th:only-of-type {\n",
              "        vertical-align: middle;\n",
              "    }\n",
              "\n",
              "    .dataframe tbody tr th {\n",
              "        vertical-align: top;\n",
              "    }\n",
              "\n",
              "    .dataframe thead th {\n",
              "        text-align: right;\n",
              "    }\n",
              "</style>\n",
              "<table border=\"1\" class=\"dataframe\">\n",
              "  <thead>\n",
              "    <tr style=\"text-align: right;\">\n",
              "      <th></th>\n",
              "      <th>Genero</th>\n",
              "      <th>E1 - Examples of Time Series Analysis</th>\n",
              "      <th>E4 - Panel Data</th>\n",
              "      <th>E6 - Decison Trees</th>\n",
              "      <th>E8 - Ensemble Trees Overview</th>\n",
              "      <th>E10 - REST-API</th>\n",
              "      <th>E11 - Natural Language Processing Overview</th>\n",
              "    </tr>\n",
              "  </thead>\n",
              "  <tbody>\n",
              "    <tr>\n",
              "      <th>0</th>\n",
              "      <td>M</td>\n",
              "      <td>One of the most valuable application of time s...</td>\n",
              "      <td>The main difference between panel data and tim...</td>\n",
              "      <td>Decision tree are a model used by the analytic...</td>\n",
              "      <td>They are used to make a better prediction than...</td>\n",
              "      <td>Es una forma de arquitectura de datos. Los mic...</td>\n",
              "      <td>NaN</td>\n",
              "    </tr>\n",
              "    <tr>\n",
              "      <th>1</th>\n",
              "      <td>F</td>\n",
              "      <td>ANÁLISIS DE SERIES DE TIEMPO – USOS \\nEl análi...</td>\n",
              "      <td>Series de Tiempo vs Datos en Panel\\nUna serie ...</td>\n",
              "      <td>TIPOS DE ÁRBOLES DE DECISIÓN Y APLICACIONES\\nL...</td>\n",
              "      <td>ENSAMBLAJE EN MACHINE LEARNING\\nLos métodos de...</td>\n",
              "      <td>Microservicios\\nEl objetivo principal de la im...</td>\n",
              "      <td>NaN</td>\n",
              "    </tr>\n",
              "    <tr>\n",
              "      <th>2</th>\n",
              "      <td>M</td>\n",
              "      <td>Una serie de tiempo es una colección de datos ...</td>\n",
              "      <td>NaN</td>\n",
              "      <td>los arboles de decisión hacen parte de los alg...</td>\n",
              "      <td>Ensemble methods is a machine learning techniq...</td>\n",
              "      <td>El enfoque tradicional para el diseño de aplic...</td>\n",
              "      <td>LexisNexis launched Lexis Analytics, a legal r...</td>\n",
              "    </tr>\n",
              "    <tr>\n",
              "      <th>3</th>\n",
              "      <td>M</td>\n",
              "      <td>\\nGiven that Time Series Analysis allows to un...</td>\n",
              "      <td>The difference between panel data and time ser...</td>\n",
              "      <td>Decision Trees Algorithms are machine function...</td>\n",
              "      <td>Ensemble methods in Tree Decision algorithms b...</td>\n",
              "      <td>Micro-services are defined as a type of softwa...</td>\n",
              "      <td>NaN</td>\n",
              "    </tr>\n",
              "    <tr>\n",
              "      <th>4</th>\n",
              "      <td>M</td>\n",
              "      <td>Time Series Analysis is concerned with the stu...</td>\n",
              "      <td>A time series is represented by a variable or ...</td>\n",
              "      <td>Decision trees are a popular supervised machin...</td>\n",
              "      <td>The ensemble method is a combination of severa...</td>\n",
              "      <td>A microservice is a type of information techno...</td>\n",
              "      <td>A commercial product which uses Natural Langua...</td>\n",
              "    </tr>\n",
              "  </tbody>\n",
              "</table>\n",
              "</div>\n",
              "    <div class=\"colab-df-buttons\">\n",
              "\n",
              "  <div class=\"colab-df-container\">\n",
              "    <button class=\"colab-df-convert\" onclick=\"convertToInteractive('df-b60206bd-5779-4bd6-a417-166f6c45ecab')\"\n",
              "            title=\"Convert this dataframe to an interactive table.\"\n",
              "            style=\"display:none;\">\n",
              "\n",
              "  <svg xmlns=\"http://www.w3.org/2000/svg\" height=\"24px\" viewBox=\"0 -960 960 960\">\n",
              "    <path d=\"M120-120v-720h720v720H120Zm60-500h600v-160H180v160Zm220 220h160v-160H400v160Zm0 220h160v-160H400v160ZM180-400h160v-160H180v160Zm440 0h160v-160H620v160ZM180-180h160v-160H180v160Zm440 0h160v-160H620v160Z\"/>\n",
              "  </svg>\n",
              "    </button>\n",
              "\n",
              "  <style>\n",
              "    .colab-df-container {\n",
              "      display:flex;\n",
              "      gap: 12px;\n",
              "    }\n",
              "\n",
              "    .colab-df-convert {\n",
              "      background-color: #E8F0FE;\n",
              "      border: none;\n",
              "      border-radius: 50%;\n",
              "      cursor: pointer;\n",
              "      display: none;\n",
              "      fill: #1967D2;\n",
              "      height: 32px;\n",
              "      padding: 0 0 0 0;\n",
              "      width: 32px;\n",
              "    }\n",
              "\n",
              "    .colab-df-convert:hover {\n",
              "      background-color: #E2EBFA;\n",
              "      box-shadow: 0px 1px 2px rgba(60, 64, 67, 0.3), 0px 1px 3px 1px rgba(60, 64, 67, 0.15);\n",
              "      fill: #174EA6;\n",
              "    }\n",
              "\n",
              "    .colab-df-buttons div {\n",
              "      margin-bottom: 4px;\n",
              "    }\n",
              "\n",
              "    [theme=dark] .colab-df-convert {\n",
              "      background-color: #3B4455;\n",
              "      fill: #D2E3FC;\n",
              "    }\n",
              "\n",
              "    [theme=dark] .colab-df-convert:hover {\n",
              "      background-color: #434B5C;\n",
              "      box-shadow: 0px 1px 3px 1px rgba(0, 0, 0, 0.15);\n",
              "      filter: drop-shadow(0px 1px 2px rgba(0, 0, 0, 0.3));\n",
              "      fill: #FFFFFF;\n",
              "    }\n",
              "  </style>\n",
              "\n",
              "    <script>\n",
              "      const buttonEl =\n",
              "        document.querySelector('#df-b60206bd-5779-4bd6-a417-166f6c45ecab button.colab-df-convert');\n",
              "      buttonEl.style.display =\n",
              "        google.colab.kernel.accessAllowed ? 'block' : 'none';\n",
              "\n",
              "      async function convertToInteractive(key) {\n",
              "        const element = document.querySelector('#df-b60206bd-5779-4bd6-a417-166f6c45ecab');\n",
              "        const dataTable =\n",
              "          await google.colab.kernel.invokeFunction('convertToInteractive',\n",
              "                                                    [key], {});\n",
              "        if (!dataTable) return;\n",
              "\n",
              "        const docLinkHtml = 'Like what you see? Visit the ' +\n",
              "          '<a target=\"_blank\" href=https://colab.research.google.com/notebooks/data_table.ipynb>data table notebook</a>'\n",
              "          + ' to learn more about interactive tables.';\n",
              "        element.innerHTML = '';\n",
              "        dataTable['output_type'] = 'display_data';\n",
              "        await google.colab.output.renderOutput(dataTable, element);\n",
              "        const docLink = document.createElement('div');\n",
              "        docLink.innerHTML = docLinkHtml;\n",
              "        element.appendChild(docLink);\n",
              "      }\n",
              "    </script>\n",
              "  </div>\n",
              "\n",
              "\n",
              "<div id=\"df-9dfe6465-3252-4ca6-b69e-a5d410d65829\">\n",
              "  <button class=\"colab-df-quickchart\" onclick=\"quickchart('df-9dfe6465-3252-4ca6-b69e-a5d410d65829')\"\n",
              "            title=\"Suggest charts\"\n",
              "            style=\"display:none;\">\n",
              "\n",
              "<svg xmlns=\"http://www.w3.org/2000/svg\" height=\"24px\"viewBox=\"0 0 24 24\"\n",
              "     width=\"24px\">\n",
              "    <g>\n",
              "        <path d=\"M19 3H5c-1.1 0-2 .9-2 2v14c0 1.1.9 2 2 2h14c1.1 0 2-.9 2-2V5c0-1.1-.9-2-2-2zM9 17H7v-7h2v7zm4 0h-2V7h2v10zm4 0h-2v-4h2v4z\"/>\n",
              "    </g>\n",
              "</svg>\n",
              "  </button>\n",
              "\n",
              "<style>\n",
              "  .colab-df-quickchart {\n",
              "      --bg-color: #E8F0FE;\n",
              "      --fill-color: #1967D2;\n",
              "      --hover-bg-color: #E2EBFA;\n",
              "      --hover-fill-color: #174EA6;\n",
              "      --disabled-fill-color: #AAA;\n",
              "      --disabled-bg-color: #DDD;\n",
              "  }\n",
              "\n",
              "  [theme=dark] .colab-df-quickchart {\n",
              "      --bg-color: #3B4455;\n",
              "      --fill-color: #D2E3FC;\n",
              "      --hover-bg-color: #434B5C;\n",
              "      --hover-fill-color: #FFFFFF;\n",
              "      --disabled-bg-color: #3B4455;\n",
              "      --disabled-fill-color: #666;\n",
              "  }\n",
              "\n",
              "  .colab-df-quickchart {\n",
              "    background-color: var(--bg-color);\n",
              "    border: none;\n",
              "    border-radius: 50%;\n",
              "    cursor: pointer;\n",
              "    display: none;\n",
              "    fill: var(--fill-color);\n",
              "    height: 32px;\n",
              "    padding: 0;\n",
              "    width: 32px;\n",
              "  }\n",
              "\n",
              "  .colab-df-quickchart:hover {\n",
              "    background-color: var(--hover-bg-color);\n",
              "    box-shadow: 0 1px 2px rgba(60, 64, 67, 0.3), 0 1px 3px 1px rgba(60, 64, 67, 0.15);\n",
              "    fill: var(--button-hover-fill-color);\n",
              "  }\n",
              "\n",
              "  .colab-df-quickchart-complete:disabled,\n",
              "  .colab-df-quickchart-complete:disabled:hover {\n",
              "    background-color: var(--disabled-bg-color);\n",
              "    fill: var(--disabled-fill-color);\n",
              "    box-shadow: none;\n",
              "  }\n",
              "\n",
              "  .colab-df-spinner {\n",
              "    border: 2px solid var(--fill-color);\n",
              "    border-color: transparent;\n",
              "    border-bottom-color: var(--fill-color);\n",
              "    animation:\n",
              "      spin 1s steps(1) infinite;\n",
              "  }\n",
              "\n",
              "  @keyframes spin {\n",
              "    0% {\n",
              "      border-color: transparent;\n",
              "      border-bottom-color: var(--fill-color);\n",
              "      border-left-color: var(--fill-color);\n",
              "    }\n",
              "    20% {\n",
              "      border-color: transparent;\n",
              "      border-left-color: var(--fill-color);\n",
              "      border-top-color: var(--fill-color);\n",
              "    }\n",
              "    30% {\n",
              "      border-color: transparent;\n",
              "      border-left-color: var(--fill-color);\n",
              "      border-top-color: var(--fill-color);\n",
              "      border-right-color: var(--fill-color);\n",
              "    }\n",
              "    40% {\n",
              "      border-color: transparent;\n",
              "      border-right-color: var(--fill-color);\n",
              "      border-top-color: var(--fill-color);\n",
              "    }\n",
              "    60% {\n",
              "      border-color: transparent;\n",
              "      border-right-color: var(--fill-color);\n",
              "    }\n",
              "    80% {\n",
              "      border-color: transparent;\n",
              "      border-right-color: var(--fill-color);\n",
              "      border-bottom-color: var(--fill-color);\n",
              "    }\n",
              "    90% {\n",
              "      border-color: transparent;\n",
              "      border-bottom-color: var(--fill-color);\n",
              "    }\n",
              "  }\n",
              "</style>\n",
              "\n",
              "  <script>\n",
              "    async function quickchart(key) {\n",
              "      const quickchartButtonEl =\n",
              "        document.querySelector('#' + key + ' button');\n",
              "      quickchartButtonEl.disabled = true;  // To prevent multiple clicks.\n",
              "      quickchartButtonEl.classList.add('colab-df-spinner');\n",
              "      try {\n",
              "        const charts = await google.colab.kernel.invokeFunction(\n",
              "            'suggestCharts', [key], {});\n",
              "      } catch (error) {\n",
              "        console.error('Error during call to suggestCharts:', error);\n",
              "      }\n",
              "      quickchartButtonEl.classList.remove('colab-df-spinner');\n",
              "      quickchartButtonEl.classList.add('colab-df-quickchart-complete');\n",
              "    }\n",
              "    (() => {\n",
              "      let quickchartButtonEl =\n",
              "        document.querySelector('#df-9dfe6465-3252-4ca6-b69e-a5d410d65829 button');\n",
              "      quickchartButtonEl.style.display =\n",
              "        google.colab.kernel.accessAllowed ? 'block' : 'none';\n",
              "    })();\n",
              "  </script>\n",
              "</div>\n",
              "\n",
              "    </div>\n",
              "  </div>\n"
            ],
            "application/vnd.google.colaboratory.intrinsic+json": {
              "type": "dataframe",
              "variable_name": "data",
              "summary": "{\n  \"name\": \"data\",\n  \"rows\": 46,\n  \"fields\": [\n    {\n      \"column\": \"Genero\",\n      \"properties\": {\n        \"dtype\": \"category\",\n        \"num_unique_values\": 2,\n        \"samples\": [\n          \"F\",\n          \"M\"\n        ],\n        \"semantic_type\": \"\",\n        \"description\": \"\"\n      }\n    },\n    {\n      \"column\": \"E1 - Examples of Time Series Analysis\",\n      \"properties\": {\n        \"dtype\": \"string\",\n        \"num_unique_values\": 44,\n        \"samples\": [\n          \"Ejemplo 1: Ventas de bronceadores\\nUna empresa dedicada a fabricar bloqueadores puede predecir sus ventas teniendo en cuenta el comportamiento de las ventas en a\\u00f1os posteriores. Debe tener en cuenta estacionalidades dadas por el verano y la \\u00e9poca de vacaciones donde se espera que se venda m\\u00e1s de este producto que en el resto del a\\u00f1o. Esto es importante para que en la temporada de verano no haya escases del producto y que en otras \\u00e9pocas del a\\u00f1o no se incurra en una sobreproducci\\u00f3n del mismo.\\nEjemplo 2: Tr\\u00e1fico\\nPara conocer las horas y d\\u00edas que se presenta mayor tr\\u00e1fico en una ciudad determinada, con tener la informaci\\u00f3n hist\\u00f3rica de cada d\\u00eda de la semana a cada hora, es posible identificar una tendencia diaria y horaria la cual ayudar\\u00eda a predecir el comportamiento del tr\\u00e1fico en determinado d\\u00eda de la semana a horas espec\\u00edficas. Esto puede ayudar a decidir con que frecuencia enviar buses y de que capacidad. Se puede llegar a un detalle de saber cual es la ruta que m\\u00e1s usan los pasajeros y as\\u00ed tratar de enviar estas con la frecuencia que se necesita.\\nEjemplo 3: Venta de suscripciones al gimnasio\\nEs evidente que iniciando el a\\u00f1o la gente tiene como uno de sus objetivos por fin tener una vida saludable y dentro de sus metas se encuentra el hacer ejercicio, por esto, los gimnasios pueden predecir sus ventas de acuerdo con las temporadas del a\\u00f1o, teniendo mayor impacto en el primer mes del a\\u00f1o y en los meses previos a las vacaciones de invierno; dado que se conoce el comportamiento hist\\u00f3rico de cada a\\u00f1o hacia atr\\u00e1s y pueden preparar sus planes de acuerdo a esto. Tambi\\u00e9n pueden identificar las horas y los d\\u00edas donde hay m\\u00e1s afluencias de personas en el establecimiento y as\\u00ed programar sus instructores y optimizan el uso de las m\\u00e1quinas del gimnasio. \",\n          \"Time Series seeks to predict the future of a variable based on understanding the past. Among the fields in which this type of statistical methos  we have; ECONOMY to predict annual GDP \\u2013 unemployment rate, inflation rate and economic growth; in METEOROLOGY to know maximum temperatures, daily precipitation, maximum and minimum temperatures in each region; ENVIRONMENT to predict annual CO2 emissions; DEMOGRAPHI to predict birth and death rate, and in ENERGY INDUSTRIY for the forecasting of electricity demand in distribution systems for the definition of energy prices; and the most common case in Product Sales and Budget Definition and Personal Finance.\\n\\nHave a look, In personal finance, we can analyze the credit card expenses in the last two years of use, we may determine if there are seasonality or specific spending trends, and this kind of analysis can be combine whit other information from different independent variables.\\n\\nThe next case is the projection of sales of a specific product, this as a time series of type Non-seasonal, requires taking the same product's information in the past or a similar product that allows to have a significant number of observations for a range of several years, in such a way as to show sales behavior at each time of year, irregular variations typical of unexpected natural or public health events, and  cyclical variations   resulting from the aggregate effects of macroeconomic variables such as; Inflation, recession, depression and economic recovery, all with the underlying hypothesis that the future is determined by the past.\\n\\nAn additional example is to the number of weekly complaint tickets  obtained by a corporate aid desk that addresses the solution to all internal information systems; this being a discrete seasonal series where the best prediction of the number of complaints for the next moment is the average of the observations analyzed.\"\n        ],\n        \"semantic_type\": \"\",\n        \"description\": \"\"\n      }\n    },\n    {\n      \"column\": \"E4 - Panel Data\",\n      \"properties\": {\n        \"dtype\": \"string\",\n        \"num_unique_values\": 44,\n        \"samples\": [\n          \"Los datos de series de tiempo se refieren a observaciones de un \\u00fanico individuo en diferentes momentos temporales, la informaci\\u00f3n de este individuo debe recopilarse en periodos regulares, ya sea diaria, semanal, mensual, trimestral, semestral o anualmente. Esto depende de las caracter\\u00edsticas de la variable que se est\\u00e1 observando. Los datos panel son un conjunto de observaciones de varios individuos en diferentes intervalos de tiempo. Un ejemplo de datos panel se puede tener con la informaci\\u00f3n de las estaciones meteorol\\u00f3gicas de diferentes ciudades como Bogot\\u00e1, Tunja y Bucaramanga para analizar el comportamiento de la temperatura en las 3 ciudades, aunque estamos hablando de la temperatura como variable de an\\u00e1lisis, es evidente que la variable tiene comportamiento diferente en estas tres ciudades. Tambi\\u00e9n se pueden analizar otras variables como la direcci\\u00f3n y velocidad del viento, el nivel de lluvias, entre otras y as\\u00ed identificar si estas variables influyen en la variaci\\u00f3n de la temperatura.\",\n          \"Las series de tiempo y los datos longitudinales se diferencian fundamentalmente en la multiplicidad que presenta unidad n o individuos pues en el caso de las series de tiempo, se trata del an\\u00e1lisis de observaciones recolectadas para un mismo individuo en m\\u00faltiples intervalos de tiempo uniformes; mientras que en los datos longitudinales se observan n unidades de secci\\u00f3n cruzada (m\\u00faltiples individuos)  durante T periodos, y para cada observaci\\u00f3n se cuenta con K variables, por lo que el conjunto de datos tendr\\u00e1 nkT valores, es decir que los paneles de datos nos permiten hacer un seguimiento a la misma muestra a lo largo del tiempo (evoluci\\u00f3n) o tener la uni\\u00f3n de las series de tiempos de m\\u00faltiples individuos. \\nEjemplo de la aplicaci\\u00f3n de las series de tiempo v.s los datos panel corresponde al an\\u00e1lisis del PIB de un pa\\u00eds espec\\u00edficamente o el an\\u00e1lisis de los PIB de todos los pa\\u00edses de sur Am\\u00e9rica en los \\u00faltimos 20 a\\u00f1os. \"\n        ],\n        \"semantic_type\": \"\",\n        \"description\": \"\"\n      }\n    },\n    {\n      \"column\": \"E6 - Decison Trees\",\n      \"properties\": {\n        \"dtype\": \"string\",\n        \"num_unique_values\": 42,\n        \"samples\": [\n          \"A decision tree is a non-parametric supervised learning method that can be used for both classification and regression tasks. The goal is to create a model that predicts the value of a target variable by learning simple decision rules inferred from the data features. For a classification model, the target values are discrete, whereas, for a regression model, the target values are represented by continuous values. Unlike the black box type of algorithms such as Neural Network, Decision Trees are comparably easier to understand because it shares internal decision-making logic.\\nEven though many data scientists believe it\\u2019s an old method and they may have some doubts of its accuracy due to an overfitting problem, the more recent tree-based models, for example, Random forest (bagging method), gradient boosting (boosting method) and XGBoost (boosting method) are built on the top of decision tree algorithm.\\nThere are 4 popular types of decision tree algorithms: ID3 (Iterative Dichotomiser), CART (Classification and Regression Trees), Chi-Square and Reduction in Variance.\\nID3 decision tree algorithm uses Information Gain to decide the splitting points. To measure how much information we gain, we can use entropy to calculate the homogeneity of a sample.  Entropy is a measure of the amount of uncertainty in a data set. \\nCART uses the Gini method to create split points including Gini Index (Gini Impurity) and Gini Gain.  Gini Index is the probability of assigning a wrong label to a sample by picking the label randomly and is also used to measure feature importance in a tree.\\nChi-square is defined as the sum of the squares of the standardized differences between the expected and observed frequences of multiple disjoint samples.\\nThe three previous measures apply to categorical targets, although when the target variable is numeric, a good split should reduce the variance of the target variable. Recall that variance is a measure of the tendency of the values in a population to stay close to the mean value.  In a sample with low variance, most values are quite close to the mean; in a sample with high variance many values are quite far from the mean.\\n\\nReferences\\nDecision Tree Intuition: From Concept to Application. (n.d.). Retrieved June 22, 2020, from https://towardsdatascience.com/decision-tree-intuition-from-concept-to-application-530744294bb6\\nLinoff, G. (2011). Data mining techniques : for marketing, sales, and customer relationship management. Wiley.\",\n          \"Los algoritmos basados en \\u00e1rboles de decisi\\u00f3n pueden ser usados tanto para efectos de clasificaci\\u00f3n como regresi\\u00f3n. El \\u00e1rbol es un algoritmo no param\\u00e9trico cuyo m\\u00e9todo intenta hacer particiones regularizadas del espacio a predecir o clasificar. Estas particiones hacen que el entendimiento del problema tambi\\u00e9n sea m\\u00e1s f\\u00e1cil, pues reduce la complejidad mediante una aproximaci\\u00f3n top-botton. Dichas particiones se realizan siguiendo un conjunto de reglas buscando obtener las respuestas m\\u00e1s similares. Normalmente el algoritmo simple de \\u00e1rbol de decisi\\u00f3n no tiene gran capacidad de predicci\\u00f3n versus otros modelos, sin embargo, existen variantes sobre el algoritmo como baggin o boosting, tambi\\u00e9n llamados m\\u00e9todos de ensamblaje que mejoran los rendimientos de los modelos basados en \\u00e1rboles.\\nLa idea central de los m\\u00e9todos de ensamblaje es combinar distintos \\u00e1rboles que, aunque no tienen m\\u00e9tricas de predicci\\u00f3n optimas, se pueden combinar entre si porque se complementan. Esto es, no nos interesa combinar arboles que seguramente integren las mismas variables al modelo, sino que aporten datos nuevos sobre la variable a predecir, de esta forma el rendimiento del modelo aumenta.\\nBagging: Es un m\\u00e9todo que permite reducir la varianza del modelo al combinar m\\u00faltiples arboles con clasificadores elaborados a partir de diferentes muestras o subconjuntos de los datos. El modelo Random Forest es un ejemplo de baggin y es tal vez el algoritmo m\\u00e1s conocido dentro de los m\\u00e9todos de ensamble. La particularidad de Random Forest es su ponderaci\\u00f3n por votaci\\u00f3n, de esta forma para elegir los \\u00e1rboles  toma el \\u00e1rbol con mayores votos para el predictor.\\nBoosting: El m\\u00e9todo de Boosting se re\\ufb01ere a los algoritmos que combinan predictores d\\u00e9biles para generar predictores fuertes. Uno de estos algoritmos es el GBM de \\u2018Gradient Boosting Machine\\u2019.\\nAlgunos ejemplos donde se podr\\u00edan usar los arboles de decisi\\u00f3n: en problemas de clasificaci\\u00f3n tales como segmentaci\\u00f3n de clientes para crear estrategias de cobranza y en problemas de predicci\\u00f3n como determinar el pr\\u00f3ximo producto bancario m\\u00e1s apropiado para ofrecer a un cliente. \\n\\nReferencias:\\nJames, G., Daniela, W., Hastie, T., & Tibshirani, R. (2013). An Introduction to Statistical Learning. New York: Springer.\\n\"\n        ],\n        \"semantic_type\": \"\",\n        \"description\": \"\"\n      }\n    },\n    {\n      \"column\": \"E8 - Ensemble Trees Overview\",\n      \"properties\": {\n        \"dtype\": \"string\",\n        \"num_unique_values\": 38,\n        \"samples\": [\n          \"Los m\\u00e9todos de ensamble (o aprendizaje en conjunto) ayudan a mejorar los resultados de aprendizaje autom\\u00e1tico (o predicciones) mediante la combinaci\\u00f3n de varios modelos que pueden ser de la misma familia, pero con diferentes par\\u00e1metros y/o entrenados con diferentes datos o incluso una mezcla de modelos en s\\u00ed. A la final de estos se puede ponderar cada modelo por aparte, promediar el resultado o incluso incluirnos como input en un nuevo modelo final, alimentado por los anteriores. Este enfoque permite obtener un mejor rendimiento predictivo en comparaci\\u00f3n con un \\u00fanico modelo, con 3 caracter\\u00edsticas importantes:\\n1.\\tDisminuci\\u00f3n de la varianza. Como el resultado es la combinaci\\u00f3n de muchos modelos, poseen una varianza menor que la de 1 solo modelo.\\n2.\\tMejorar las predicciones. Si la precisi\\u00f3n de la mayor\\u00eda de los modelos es superior a 0.5, la precisi\\u00f3n tiende a elevarse a medida que se incluyan mas modelos con una precisi\\u00f3n mayor a 0.5. Para m\\u00e1s informaci\\u00f3n ver el teorema del jurado de Condorcet.\\n3.\\tAumento de sesgo. El sesgo, a veces tambi\\u00e9n llamado efecto de selecci\\u00f3n o error muestral, es una distorsi\\u00f3n que se introduce debido a la forma en que se selecciona la muestra. Se refiere a la distorsi\\u00f3n de un an\\u00e1lisis estad\\u00edstico, debido al m\\u00e9todo de recolecci\\u00f3n de muestras. Ya que cada modelo puede tener muestras diferentes, es un efecto secundario de estos modelos pero que es compensado por los dos \\u00edtems anteriores.\\nEmp\\u00edricamente, los m\\u00e9todos de ensamble tienden a producir mejores resultados cuando hay una diversidad significativa entre los modelos. Muchos m\\u00e9todos de ensamble, por lo tanto, buscan tener diversos tipos de modelos a combinar. El uso de una variedad de algoritmos de aprendizaje ha demostrado que es mucho m\\u00e1s eficaz que el uso de un solo tipo de modelo, sin importar cu\\u00e1ntas versiones diferentes de un solo tipo modelo se ensamblen.\\nKuncheva, L. and Whitaker, C., Measures of diversity in classifier ensembles, Machine Learning, 51, p\\u00e1gs. 181-207, 2003\\n Sollich, P. and Krogh, A., Learning with ensembles: How overfitting can be useful, Advances in Neural Information Processing Systems, volumen 8, pp. 190-196, 1996.\\n Brown, G. and Wyatt, J. and Harris, R. and Yao, X., Diversity creation methods: a survey and categorisation., Information Fusion, 6(1), pp.5-20, 2005.\\nHo, T., Random Decision Forests, Proceedings of the Third International Conference on Document Analysis and Recognition , p\\u00e1gs.278-282, 1995.\\nGashler, M.; Giraud-Carrier, C.; Mart\\u00ednez, T. (2008). \\\"Decision Tree Ensemble: Small Heterogeneous Is Better Than Large Homogeneous\\\" (PDF). La S\\u00e9ptima Conferencia Internacional sobre Aprendizaje Autom\\u00e1tico y Aplicaciones. 2008: 900\\u2013905. doi:10.1109/ICMLA.2008.154.\\n\",\n          \"Los Ensembles o M\\u00e9todos de Ensamblaje son una familia de algoritmos de Machine Learning que construyen varios arboles de decisi\\u00f3n para realizar predicciones m\\u00e1s potentes. En lugar de entrenar solo un modelo, se entrenan varios, construidos a partir de la creaci\\u00f3n de subconjuntos de datos aleatorios. En ese sentido, cada \\u00e1rbol realiza una predicci\\u00f3n individual, luego, se usan t\\u00e9cnicas para seleccionar aquellas predicciones que constituyen un patr\\u00f3n de frecuencia como la clase mayoritaria (moda), o se calcula la mejor con un promedio simple o ponderado (dependiendo si es para regresi\\u00f3n o clasificaci\\u00f3n). En general, los \\u00e1rboles resultan buenos modelos para explicar una variable de respuesta Y a partir de varios predictores Xs, sin embargo, no son tan buenos para realizar predicciones.\\n\\nLa estrategia de predecir a partir de un conjunto de \\u00e1rboles y ensamblar es exitosa en general, porque supera muchas de las limitaciones que tienen la predicci\\u00f3n con base en \\u00e1rboles individuales. Espec\\u00edficamente los Ensembles tienen mayor poder predictivo sacrificando interpretabilidad, debido a:\\n\\u2022\\tPermiten absorber la aleatoriedad y reducir la variabilidad presente en los de datos creados a partir de subconjuntos de observaciones o de predictores (significa que se diversifican los datos para crear varias particiones posibles). Esto se supera, considerando que los \\u00e1rboles individuales operan con m\\u00e9todos o he\\u00faristicas secuenciales que determinan una funci\\u00f3n predictora (estructura de \\u00e1rbol) con mucha variabilidad (si se cambiara la muestra podr\\u00eda usar particiones muy diferentes).\\n\\u2022\\tFuncionan muy bien con variables categ\\u00f3ricas, sin necesitar conversi\\u00f3n a variables dummies. \\n\\u2022\\tNo se alteran significativamente ante datos faltantes.\\n\\u2022\\tPermiten determinar el aporte individual de cada variable.\\n\\u2022\\tEvitan el exceso de ajuste (over-fitting).\\n\\u2022\\tDado que son algoritmos no lineales y no aditivos, son muy vers\\u00e1tiles seg\\u00fan el tipo de variables a trabajar y no sufren la maldici\\u00f3n de la dimensionalidad.\\n\\u2022\\tEn el caso de Bagging (El algoritmo fundamental), usar bootstraping permite estimar el error Out-of-sample (Gini, MSE, AUC), sin necesidad de partir las muestras o usar crossvalidation. \\n\\u2022\\tEn el caso de RandomForest, disminuyen el sesgo y la varianza a partir de una mayor diversificaci\\u00f3n de los predictores. \\n\\u2022\\tM\\u00e9todos como el Boosting resultan relativamente f\\u00e1ciles de implementar, son eficientes y sencillos de escalar. En este caso, no se promedia sino que se trabaja con todos los predictores buscando un \\u201cAprendizaje lento\\u201d que permite ir aprendiendo de los residuos para reducir el sesgo.\\n\"\n        ],\n        \"semantic_type\": \"\",\n        \"description\": \"\"\n      }\n    },\n    {\n      \"column\": \"E10 - REST-API\",\n      \"properties\": {\n        \"dtype\": \"string\",\n        \"num_unique_values\": 45,\n        \"samples\": [\n          \"Los microservicios son un estilo arquitect\\u00f3nico para aplicaciones web, donde la funcionalidad se divide en peque\\u00f1os servicios web. Esta t\\u00e9cnica desarrolla aplicaciones modulares que organiza servicios independientemente acoplados. La arquitectura de microservicios es como una l\\u00ednea de ensamblaje, donde cada servicio tiene un rol especializado. Al unir estos servicios crean una aplicaci\\u00f3n completa.\\nEstos servicios pueden implementarse de manera independiente y generalmente cumplen un prop\\u00f3sito espec\\u00edfico. Ya sea que se encargue de gestionar el pago de un producto, la log\\u00edstica de env\\u00edo a los clientes o un servicio de informaci\\u00f3n.\\nLos microservicios hacen que sea mucho m\\u00e1s f\\u00e1cil desarrollar, integrar y mantener aplicaciones. Dado que las funcionalidades individuales se tratan por separado, permite construir aplicaciones paso a paso y luego permite trabajar en cada elemento por separado para que se pueda modificar, mejorar o corregir sin afectar la aplicaci\\u00f3n de forma integral.\\nLos microservicios son un ejemplo de arquitectura orientada a servicios, y es una alternativa nueva para construir aplicaciones singulares y autosuficientes llamadas monolitos. Se presenta mayor utilidad en las empresas m\\u00e1s grandes, ya que permiten que los equipos trabajen en elementos separados sin la necesidad de utilizar grandes recursos para trabajar en ellos.\\nPara que las partes de la aplicaci\\u00f3n se comuniquen de manera efectiva entre s\\u00ed, es necesario que se vinculen las API con los microservicios. Una arquitectura de microservicio probablemente contiene muchas API, aunque las API tambi\\u00e9n se pueden utilizar para otros fines sin ser parte de una arquitectura de microservicio. Esto es probablemente de d\\u00f3nde viene la confusi\\u00f3n al comparar los dos.\\nAlgunas de las principales caracter\\u00edsticas de los microservicios son:\\n-\\tComponentes m\\u00faltiples: Est\\u00e1 creado para dividirse en servicios de m\\u00faltiples componentes. Para que cada uno de estos servicios se pueda implementar, ajustar y volver a implementar de forma independiente sin comprometer la integridad de una aplicaci\\u00f3n.\\n-\\tCreado para los negocios: El estilo de los microservicios generalmente se organiza alrededor de las capacidades y prioridades del negocio.\\n-\\tEnrutamiento simple: El sistema de los microservicios recibe solicitudes, las procesa y generan una respuesta en consecuencia. Usando un sistema de enrutamiento simple.\\n-\\tDescentralizado: La comunidad de microservicios favorece la gobernanza descentralizada porque sus desarrolladores se esfuerzan por producir herramientas \\u00fatiles que luego puedan ser utilizadas por otros para resolver los mismos problemas.\\n\",\n          \"La arquitectura de microservicios es una aproximaci\\u00f3n a un tipo de desarrollo de funcionalidades e infraestructura caracterizado por ser una aplicaci\\u00f3n de tipo \\u201cSingle\\u201d como una suite de peque\\u00f1os servicios que se ejecutados sobre su propia infraestructura y con mecanismos de comunicaci\\u00f3n entre estos servicios para evitar un paradigma de silo, para esto con frecuencia se utiliza un API de tipo HTTP.\\nEstos servicios son desarrollados alrededor de funcionalidades del negocio y tienen como caracter\\u00edsticas fundamentales; Ejecutan funcionalidades espec\\u00edficas y especializadas, son desplegados o puestos en producci\\u00f3n de manera independiente y de manera automatizada lo que permite una r\\u00e1pida posibilidad de escalar soluciones soluci\\u00f3n de negocio (de software o anal\\u00edticas), ya que estos pueden estar construidos en m\\u00faltiples lenguajes de programaci\\u00f3n, motores de bases de datos y tipos de infraestructura. Este es el cambio fundamental a nivel de arquitectura que sustenta procesos DEVOPS en el mundo del agilismo y la producci\\u00f3n continua de soluciones.\\nComo desventaja estos implica una mayor dependencia de los canales de comunicaci\\u00f3n y la latencia de la red, el balanceo de cargas y la gesti\\u00f3n de mensajes de comunicaci\\u00f3n  entre componentes y el inicio de procesos de descentralizaci\\u00f3n de datos, que si bien aportan velocidad y especializaci\\u00f3n en funciones de negocio, tambi\\u00e9n representan retos para asegurar la coordinaci\\u00f3n y la sincronizaci\\u00f3n de los datos para facilitar los an\\u00e1lisis y las respuestas a peticiones de diferentes sistemas sobre un mismo cliente.\\n\"\n        ],\n        \"semantic_type\": \"\",\n        \"description\": \"\"\n      }\n    },\n    {\n      \"column\": \"E11 - Natural Language Processing Overview\",\n      \"properties\": {\n        \"dtype\": \"category\",\n        \"num_unique_values\": 16,\n        \"samples\": [\n          \"LexisNexis launched Lexis Analytics, a legal research tool which incorporates the acquisition of machine learning and NLP start-up Ravel Law. Lexis Analytics helps legal teams with the legal research , which is the process of finding information that is needed to support legal decision-making. In practice, this generally means searching through both statute (as created by the legislature) and case law (as developed by the courts) to find what is relevant for some specific matter at hand.\\n\\nwhat the algorthm does is help with the information retrieval from the law data bases. for the the text extraction algorithm there are three main steps:\\n1. Feature Engineering\\n2. Modeling \\u2014 stacking ensemble\\n3. Post-processing Feature Engineering\\n\\none of the tecniques use in the first step is tokenization in which the algorithm tokenizes the raw text of the legal documents using a regular expression tokenizer, which simply means that each word of the text is parsed and stored as an independent observation. \",\n          \"A commercial product which uses Natural Language Processing as a core is the Hemingway App, which is a tool that helps writers to identify errors in spelling, syntax, flow, and sentence structure using color-coded highlighting. It accomplishes this with a basic artificial intelligence that uses natural language processing to find potential problems with your writing, like run-on sentences, passive voice, and words that are needlessly complicated for your audience.\\n\\nThe application works by using and artificial intelligence system that was train with high-quality data that teach the algorithm examples of what good and bad grammar looks like. To do so, the system uses more that one of the NLP techniques (like Named Entity Recognition, Tokenization, Stemming and Lemmatization, Bag of Words, Natural language generation, and Sentence Segmentation) to analyze the writing and give a score about the readability of the text. Using machine learning algorithms, the application highlights the sentences are hard to read, extremely hard to read, or if it has a simpler way to read it. \\n\\nOne of the big disadvantages of this tool, compare to other text editor, is that it does not give suggestions of how to change the phrases, does it makes it a little bit more complicated to understand how to make it better. \"\n        ],\n        \"semantic_type\": \"\",\n        \"description\": \"\"\n      }\n    }\n  ]\n}"
            }
          },
          "metadata": {},
          "execution_count": 101
        }
      ],
      "source": [
        "import pandas as pd\n",
        "import numpy as np\n",
        "import matplotlib.pyplot as plt\n",
        "\n",
        "%matplotlib inline\n",
        "\n",
        "data = pd.read_excel('https://github.com/sergiomora03/AdvancedTopicsAnalytics/raw/main/datasets/Consolidado_respuestas_escribir_v2.xlsx')\n",
        "data.head()"
      ]
    },
    {
      "cell_type": "code",
      "execution_count": 102,
      "metadata": {
        "colab": {
          "base_uri": "https://localhost:8080/"
        },
        "id": "kOXPcf12Csxz",
        "outputId": "a36d1f9a-f603-429c-d093-54573d4e9023"
      },
      "outputs": [
        {
          "output_type": "execute_result",
          "data": {
            "text/plain": [
              "Index(['Genero', 'E1 - Examples of Time Series Analysis', 'E4 - Panel Data',\n",
              "       'E6 - Decison Trees', 'E8 - Ensemble Trees Overview', 'E10 - REST-API',\n",
              "       'E11 - Natural Language Processing Overview'],\n",
              "      dtype='object')"
            ]
          },
          "metadata": {},
          "execution_count": 102
        }
      ],
      "source": [
        "data.columns"
      ]
    },
    {
      "cell_type": "code",
      "execution_count": 103,
      "metadata": {
        "colab": {
          "base_uri": "https://localhost:8080/"
        },
        "id": "Y-MIE5oxCsx0",
        "outputId": "0d2d07e9-9901-46ad-90e2-5333bae1a1de"
      },
      "outputs": [
        {
          "output_type": "stream",
          "name": "stdout",
          "text": [
            "la cantidad de estudiantes son 46\n"
          ]
        }
      ],
      "source": [
        "print(f'la cantidad de estudiantes son {len(data)}')"
      ]
    },
    {
      "cell_type": "markdown",
      "metadata": {
        "id": "3KAEwDItN1sN"
      },
      "source": [
        "# Exercise 2.1\n",
        "\n",
        "Analyze the writing patterns of each student"
      ]
    },
    {
      "cell_type": "code",
      "source": [
        "import pandas as pd\n",
        "import matplotlib.pyplot as plt\n",
        "import seaborn as sns"
      ],
      "metadata": {
        "id": "mvMh5LkoSzBW"
      },
      "execution_count": 104,
      "outputs": []
    },
    {
      "cell_type": "code",
      "source": [
        "# Contar palabras para saber cuántas palabras usa cada estudiante\n",
        "def count_words(text):\n",
        "    if isinstance(text, str):\n",
        "        return len(text.split())  # Cuenta el número de palabras\n",
        "    else:\n",
        "        return 0  # Si el valor no es un string, se cuenta como 0 palabras\n",
        "\n",
        "\n",
        "# Aplicar la función a las columnas de texto para calcular el número de palabras\n",
        "data['E1_word_count'] = data['E1 - Examples of Time Series Analysis'].apply(count_words)\n",
        "data['E4_word_count'] = data['E4 - Panel Data'].apply(count_words)\n",
        "data['E6_word_count'] = data['E6 - Decison Trees'].apply(count_words)\n",
        "data['E8_word_count'] = data['E8 - Ensemble Trees Overview'].apply(count_words)  # Corrige el nombre aquí\n",
        "data['E10_word_count'] = data['E10 - REST-API'].apply(count_words)  # Corrige el nombre aquí\n",
        "data['E11_word_count'] = data['E11 - Natural Language Processing Overview'].apply(count_words)  # Corrige el nombre aquí\n",
        "\n",
        "\n",
        "print(data[['Genero', 'E1_word_count', 'E4_word_count', 'E6_word_count', 'E8_word_count', 'E10_word_count', 'E11_word_count']].head(5))\n"
      ],
      "metadata": {
        "colab": {
          "base_uri": "https://localhost:8080/"
        },
        "id": "Sv9G3joCLiX1",
        "outputId": "8ca8b00d-7600-49d2-e484-5e137d2ee285"
      },
      "execution_count": 105,
      "outputs": [
        {
          "output_type": "stream",
          "name": "stdout",
          "text": [
            "  Genero  E1_word_count  E4_word_count  E6_word_count  E8_word_count  \\\n",
            "0      M            301             51            319            309   \n",
            "1      F            478            190            341            382   \n",
            "2      M            244              0            319            351   \n",
            "3      M            333            119            273            372   \n",
            "4      M            361            228            517            417   \n",
            "\n",
            "   E10_word_count  E11_word_count  \n",
            "0             302               0  \n",
            "1             305               0  \n",
            "2             334             160  \n",
            "3             331               0  \n",
            "4             341             210  \n"
          ]
        }
      ]
    },
    {
      "cell_type": "code",
      "source": [
        "# Calcular el promedio de palabras que usan los estudiantes por tarea\n",
        "promedios_por_tarea = data[['E1_word_count', 'E4_word_count', 'E6_word_count', 'E8_word_count', 'E10_word_count', 'E11_word_count']].mean()\n",
        "print(\"Promedio de palabras por tarea:\")\n",
        "print(promedios_por_tarea)\n",
        "\n",
        "#Comparar el número de palabras que emplean los estudiantes por género\n",
        "plt.figure(figsize=(10, 6))\n",
        "sns.barplot(x='Genero', y='E1_word_count', data=data, color=\"b\", label='E1')\n",
        "sns.barplot(x='Genero', y='E4_word_count', data=data, color=\"g\", label='E4', alpha=0.7)\n",
        "sns.barplot(x='Genero', y='E6_word_count', data=data, color=\"r\", label='E6', alpha=0.6)\n",
        "sns.barplot(x='Genero', y='E8_word_count', data=data, color=\"y\", label='E8', alpha=0.5)\n",
        "sns.barplot(x='Genero', y='E10_word_count', data=data, color=\"c\", label='E10', alpha=0.4)\n",
        "sns.barplot(x='Genero', y='E11_word_count', data=data, color=\"m\", label='E11', alpha=0.3)\n",
        "\n",
        "plt.title('Comparación de la longitud del texto entre estudiantes (por tarea)', fontsize=14)\n",
        "plt.ylabel('Número de palabras')\n",
        "plt.xticks(rotation=45)\n",
        "plt.tight_layout()\n",
        "plt.show()\n"
      ],
      "metadata": {
        "colab": {
          "base_uri": "https://localhost:8080/",
          "height": 753
        },
        "id": "4ZRLiUXxO01L",
        "outputId": "d69ee5c0-46f0-48b2-f97b-661c67da5404"
      },
      "execution_count": 106,
      "outputs": [
        {
          "output_type": "stream",
          "name": "stdout",
          "text": [
            "Promedio de palabras por tarea:\n",
            "E1_word_count     295.913043\n",
            "E4_word_count     156.739130\n",
            "E6_word_count     297.369565\n",
            "E8_word_count     266.804348\n",
            "E10_word_count    317.260870\n",
            "E11_word_count     74.065217\n",
            "dtype: float64\n"
          ]
        },
        {
          "output_type": "display_data",
          "data": {
            "text/plain": [
              "<Figure size 1000x600 with 1 Axes>"
            ],
            "image/png": "[encoded data removed]"
          },
          "metadata": {}
        }
      ]
    },
    {
      "cell_type": "code",
      "source": [
        "# Agrupar por género y calcular el promedio de palabras por tarea\n",
        "average_word_count_by_gender = data.groupby('Genero')[['E1_word_count', 'E4_word_count', 'E6_word_count', 'E8_word_count', 'E10_word_count', 'E11_word_count']].mean()\n",
        "print(average_word_count_by_gender)"
      ],
      "metadata": {
        "colab": {
          "base_uri": "https://localhost:8080/"
        },
        "id": "IxST0FxxX5av",
        "outputId": "2b4a0e86-4114-41dc-e3b2-e16920f1738a"
      },
      "execution_count": 107,
      "outputs": [
        {
          "output_type": "stream",
          "name": "stdout",
          "text": [
            "        E1_word_count  E4_word_count  E6_word_count  E8_word_count  \\\n",
            "Genero                                                               \n",
            "F          319.800000     160.700000     323.200000     262.700000   \n",
            "M          289.277778     155.638889     290.194444     267.944444   \n",
            "\n",
            "        E10_word_count  E11_word_count  \n",
            "Genero                                  \n",
            "F           305.000000      114.200000  \n",
            "M           320.666667       62.916667  \n"
          ]
        }
      ]
    },
    {
      "cell_type": "code",
      "source": [
        "#La función vocabulary_diversity evalúa qué tan variado es el vocabulario de un texto dado\n",
        "# calculando la proporción de palabras únicas con respecto al total de palabras.\n",
        "\n",
        "def vocabulary_diversity(text):\n",
        "    if pd.isna(text):\n",
        "        return 0\n",
        "    words = text.split()\n",
        "    unique_words = set(words)\n",
        "    return len(unique_words) / len(words) if len(words) > 0 else 0\n",
        "\n",
        "# Lista de tareas\n",
        "columns_to_analyze = [\n",
        "    'E1 - Examples of Time Series Analysis',\n",
        "    'E4 - Panel Data',\n",
        "    'E6 - Decison Trees',\n",
        "    'E8 - Ensemble Trees Overview',\n",
        "    'E10 - REST-API',\n",
        "    'E11 - Natural Language Processing Overview'\n",
        "]\n",
        "\n",
        "# Aplicar la función a cada columna en la lista\n",
        "for column in columns_to_analyze:\n",
        "    data[f'diversity_{column}'] = data[column].apply(vocabulary_diversity)\n",
        "diversity_means = data.groupby('Genero')[['diversity_' + column for column in columns_to_analyze]].mean()\n",
        "\n",
        "diversity_means.plot(kind='bar', figsize=(12, 6))\n",
        "plt.show()\n"
      ],
      "metadata": {
        "colab": {
          "base_uri": "https://localhost:8080/",
          "height": 540
        },
        "id": "4AWvLtcCScz7",
        "outputId": "fa20d64b-8ed3-4765-8bcc-2c07f87f5034"
      },
      "execution_count": 108,
      "outputs": [
        {
          "output_type": "display_data",
          "data": {
            "text/plain": [
              "<Figure size 1200x600 with 1 Axes>"
            ],
            "image/png": "[encoded data removed]"
          },
          "metadata": {}
        }
      ]
    },
    {
      "cell_type": "code",
      "source": [
        "print(data[[column for column in data.columns if 'diversity_' in column]])"
      ],
      "metadata": {
        "colab": {
          "base_uri": "https://localhost:8080/"
        },
        "id": "e1dEN8EYUHXJ",
        "outputId": "0fb13139-ece4-41d5-8814-6f93b7561004"
      },
      "execution_count": 109,
      "outputs": [
        {
          "output_type": "stream",
          "name": "stdout",
          "text": [
            "    diversity_E1 - Examples of Time Series Analysis  \\\n",
            "0                                          0.518272   \n",
            "1                                          0.531381   \n",
            "2                                          0.454918   \n",
            "3                                          0.486486   \n",
            "4                                          0.559557   \n",
            "5                                          0.607038   \n",
            "6                                          0.000000   \n",
            "7                                          0.541806   \n",
            "8                                          0.603015   \n",
            "9                                          0.800000   \n",
            "10                                         0.509158   \n",
            "11                                         0.585586   \n",
            "12                                         0.480726   \n",
            "13                                         0.552941   \n",
            "14                                         0.527473   \n",
            "15                                         0.733945   \n",
            "16                                         0.482618   \n",
            "17                                         0.561462   \n",
            "18                                         0.503226   \n",
            "19                                         0.575163   \n",
            "20                                         0.535032   \n",
            "21                                         0.540000   \n",
            "22                                         0.635762   \n",
            "23                                         0.505190   \n",
            "24                                         0.586667   \n",
            "25                                         0.617162   \n",
            "26                                         0.552795   \n",
            "27                                         0.000000   \n",
            "28                                         0.556314   \n",
            "29                                         0.573826   \n",
            "30                                         0.574780   \n",
            "31                                         0.604651   \n",
            "32                                         0.498695   \n",
            "33                                         0.533199   \n",
            "34                                         0.557632   \n",
            "35                                         0.574603   \n",
            "36                                         0.518041   \n",
            "37                                         0.527508   \n",
            "38                                         0.524548   \n",
            "39                                         0.506452   \n",
            "40                                         0.519608   \n",
            "41                                         0.611732   \n",
            "42                                         0.527578   \n",
            "43                                         0.561404   \n",
            "44                                         0.595308   \n",
            "45                                         0.640816   \n",
            "\n",
            "    diversity_E4 - Panel Data  diversity_E6 - Decison Trees  \\\n",
            "0                    0.607843                      0.561129   \n",
            "1                    0.621053                      0.607038   \n",
            "2                    0.000000                      0.548589   \n",
            "3                    0.588235                      0.556777   \n",
            "4                    0.587719                      0.591876   \n",
            "5                    0.490566                      0.573333   \n",
            "6                    0.458621                      0.489209   \n",
            "7                    0.606897                      0.592308   \n",
            "8                    0.620690                      0.652439   \n",
            "9                    0.788462                      0.606742   \n",
            "10                   0.489796                      0.577143   \n",
            "11                   0.572770                      0.553746   \n",
            "12                   0.492147                      0.498392   \n",
            "13                   0.700000                      0.000000   \n",
            "14                   0.604061                      0.611111   \n",
            "15                   0.870968                      0.543796   \n",
            "16                   0.500000                      0.472826   \n",
            "17                   0.672515                      0.603774   \n",
            "18                   0.465649                      0.527972   \n",
            "19                   0.559748                      0.562701   \n",
            "20                   0.604396                      0.616314   \n",
            "21                   0.602649                      0.538206   \n",
            "22                   0.622047                      0.607547   \n",
            "23                   0.683544                      0.000000   \n",
            "24                   0.568182                      0.515152   \n",
            "25                   0.579618                      0.611446   \n",
            "26                   0.000000                      0.577160   \n",
            "27                   0.580292                      0.599476   \n",
            "28                   0.633929                      0.606452   \n",
            "29                   0.545977                      0.607407   \n",
            "30                   0.539267                      0.571150   \n",
            "31                   0.502793                      0.000000   \n",
            "32                   0.491525                      0.000000   \n",
            "33                   0.472527                      0.603550   \n",
            "34                   0.604651                      0.540373   \n",
            "35                   0.520408                      0.558747   \n",
            "36                   0.551887                      0.563694   \n",
            "37                   0.600000                      0.551613   \n",
            "38                   0.588235                      0.588710   \n",
            "39                   0.620915                      0.510776   \n",
            "40                   0.586667                      0.554455   \n",
            "41                   0.443243                      0.671717   \n",
            "42                   0.476852                      0.540881   \n",
            "43                   0.438272                      0.525157   \n",
            "44                   0.524590                      0.629067   \n",
            "45                   0.583815                      0.525568   \n",
            "\n",
            "    diversity_E8 - Ensemble Trees Overview  diversity_E10 - REST-API  \\\n",
            "0                                 0.553398                  0.569536   \n",
            "1                                 0.531414                  0.580328   \n",
            "2                                 0.558405                  0.538922   \n",
            "3                                 0.505376                  0.525680   \n",
            "4                                 0.568345                  0.604106   \n",
            "5                                 0.000000                  0.605590   \n",
            "6                                 0.501085                  0.572727   \n",
            "7                                 0.566154                  0.625360   \n",
            "8                                 0.000000                  0.692308   \n",
            "9                                 0.598930                  0.642276   \n",
            "10                                0.000000                  0.575843   \n",
            "11                                0.586751                  0.610738   \n",
            "12                                0.508143                  0.528090   \n",
            "13                                0.741573                  0.705882   \n",
            "14                                0.576408                  0.568915   \n",
            "15                                0.586842                  0.612299   \n",
            "16                                0.481043                  0.543243   \n",
            "17                                0.581081                  0.660377   \n",
            "18                                0.486068                  0.549020   \n",
            "19                                0.593750                  0.565079   \n",
            "20                                0.638806                  0.545732   \n",
            "21                                0.543651                  0.517685   \n",
            "22                                0.547486                  0.508287   \n",
            "23                                0.480427                  0.503268   \n",
            "24                                0.000000                  0.582090   \n",
            "25                                0.730769                  0.589744   \n",
            "26                                0.537791                  0.673267   \n",
            "27                                0.000000                  0.599532   \n",
            "28                                0.534722                  0.581395   \n",
            "29                                0.000000                  0.542088   \n",
            "30                                0.540146                  0.527907   \n",
            "31                                0.000000                  0.574074   \n",
            "32                                0.458824                  0.570968   \n",
            "33                                0.538700                  0.584906   \n",
            "34                                0.579125                  0.575676   \n",
            "35                                0.574603                  0.603125   \n",
            "36                                0.575563                  0.553672   \n",
            "37                                0.000000                  0.514286   \n",
            "38                                0.617978                  0.587601   \n",
            "39                                0.526455                  0.562005   \n",
            "40                                0.673759                  0.594684   \n",
            "41                                0.658711                  0.579853   \n",
            "42                                0.558140                  0.541114   \n",
            "43                                0.496774                  0.000000   \n",
            "44                                0.557252                  0.600559   \n",
            "45                                0.549020                  0.567696   \n",
            "\n",
            "    diversity_E11 - Natural Language Processing Overview  \n",
            "0                                            0.000000     \n",
            "1                                            0.000000     \n",
            "2                                            0.675000     \n",
            "3                                            0.000000     \n",
            "4                                            0.666667     \n",
            "5                                            0.000000     \n",
            "6                                            0.000000     \n",
            "7                                            0.000000     \n",
            "8                                            0.000000     \n",
            "9                                            0.000000     \n",
            "10                                           0.000000     \n",
            "11                                           0.000000     \n",
            "12                                           0.000000     \n",
            "13                                           0.000000     \n",
            "14                                           0.613636     \n",
            "15                                           0.529716     \n",
            "16                                           0.543062     \n",
            "17                                           0.000000     \n",
            "18                                           0.000000     \n",
            "19                                           0.761468     \n",
            "20                                           0.735099     \n",
            "21                                           0.000000     \n",
            "22                                           0.000000     \n",
            "23                                           0.589286     \n",
            "24                                           0.000000     \n",
            "25                                           1.000000     \n",
            "26                                           0.000000     \n",
            "27                                           0.000000     \n",
            "28                                           0.000000     \n",
            "29                                           0.000000     \n",
            "30                                           0.575221     \n",
            "31                                           0.000000     \n",
            "32                                           0.000000     \n",
            "33                                           0.699422     \n",
            "34                                           0.638158     \n",
            "35                                           0.000000     \n",
            "36                                           0.000000     \n",
            "37                                           0.000000     \n",
            "38                                           0.000000     \n",
            "39                                           0.691176     \n",
            "40                                           0.685714     \n",
            "41                                           0.616740     \n",
            "42                                           0.000000     \n",
            "43                                           0.777778     \n",
            "44                                           0.000000     \n",
            "45                                           0.000000     \n"
          ]
        }
      ]
    },
    {
      "cell_type": "markdown",
      "source": [
        "En términos generales, el análisis del conteo de palabras reveló que, el promedio de palabras utilizadas por estudiantes es aproximadamente 234.6. La tarea E10 se destaca por tener el mayor número promedio de palabras en las respuestas, mientras que la tarea E11 presenta el promedio más bajo, esto puede deberse a la alta presencia de nulos en las respuestas a dicha tarea. Algo que también se identificó es que las mujeres tienden a utilizar un mayor número promedio de palabras en sus respuestas.\n",
        "\n",
        "En cuanto a la diversidad del vocabulario, que se entiende como la proporción de palabras únicas respecto al total de palabras, se identificó una diversidad promedio de 0.55 entre todos los estudiantes. En este punto se identificó que que la diversidad del género femenino (0.60) es ligeramente superior a la del género masculino (0.55), especialmente en tareas como E11, E8 y E4.\n",
        "\n"
      ],
      "metadata": {
        "id": "5oruonH6V6_A"
      }
    },
    {
      "cell_type": "markdown",
      "metadata": {
        "id": "-vo5Pza2N1sN"
      },
      "source": [
        "# Exercise 2.2\n",
        "\n",
        "Evaluate the similarities of the homeworks of the students.\n",
        "\n",
        "At a homework level, then as a student level.\n"
      ]
    },
    {
      "cell_type": "markdown",
      "metadata": {
        "id": "YsQC6GX9Csx5"
      },
      "source": [
        "### A nivel de estudiante\n"
      ]
    },
    {
      "cell_type": "code",
      "source": [
        "# Definir las columnas de respuestas (todas menos \"Genero\")\n",
        "respuestas_cols = data.columns.difference(['Genero'])\n",
        "respuestas_cols"
      ],
      "metadata": {
        "colab": {
          "base_uri": "https://localhost:8080/"
        },
        "id": "RcrPMEPK1yDh",
        "outputId": "8f87ca92-fed1-4d72-e8c3-025fb7fdeb4d"
      },
      "execution_count": 110,
      "outputs": [
        {
          "output_type": "execute_result",
          "data": {
            "text/plain": [
              "Index(['E1 - Examples of Time Series Analysis', 'E10 - REST-API',\n",
              "       'E10_word_count', 'E11 - Natural Language Processing Overview',\n",
              "       'E11_word_count', 'E1_word_count', 'E4 - Panel Data', 'E4_word_count',\n",
              "       'E6 - Decison Trees', 'E6_word_count', 'E8 - Ensemble Trees Overview',\n",
              "       'E8_word_count', 'diversity_E1 - Examples of Time Series Analysis',\n",
              "       'diversity_E10 - REST-API',\n",
              "       'diversity_E11 - Natural Language Processing Overview',\n",
              "       'diversity_E4 - Panel Data', 'diversity_E6 - Decison Trees',\n",
              "       'diversity_E8 - Ensemble Trees Overview'],\n",
              "      dtype='object')"
            ]
          },
          "metadata": {},
          "execution_count": 110
        }
      ]
    },
    {
      "cell_type": "code",
      "source": [
        "#Función de Jaccard\n",
        "def jaccard_similarity(query, document):\n",
        "    query = str(query).split()\n",
        "    document = str(document).split()\n",
        "    intersection = set(query).intersection(set(document))\n",
        "    union = set(query).union(set(document))\n",
        "    if len(union) == 0:\n",
        "        return 0\n",
        "    return len(intersection) / len(union)"
      ],
      "metadata": {
        "id": "KD-_WW3eXbv1"
      },
      "execution_count": 111,
      "outputs": []
    },
    {
      "cell_type": "code",
      "source": [
        "# Función para calcular similitud de Jaccard  entre todas las respuestas de los estudiantes i y j\n",
        "def jaccard_similarity_per_student(df, respuestas_cols):\n",
        "    Prom_similitud = []\n",
        "    Max_similitud = []\n",
        "\n",
        "    # Iterar sobre cada estudiante (filas del DataFrame)\n",
        "    for i, row_i in df.iterrows():\n",
        "        respuesta_estudiante_i = row_i[respuestas_cols].dropna().astype(str).values\n",
        "        sim_matrix = []\n",
        "\n",
        "        for j, row_j in df.iterrows():\n",
        "            if i != j:  # Asegurarse de no comparar al estudiante consigo mismo\n",
        "                respuesta_estudiante_j = row_j[respuestas_cols].dropna().astype(str).values\n",
        "                sim = jaccard_similarity(\" \".join(respuesta_estudiante_i), \" \".join(respuesta_estudiante_j))\n",
        "                sim_matrix.append(sim)\n",
        "\n",
        "        if len(sim_matrix) > 0:\n",
        "            avg_similarity = np.mean(sim_matrix) #la media\n",
        "            max_similarity = np.max(sim_matrix) #el maximo\n",
        "        else:\n",
        "            avg_similarity = np.nan\n",
        "            max_similarity = np.nan\n",
        "\n",
        "        Prom_similitud.append(avg_similarity)\n",
        "        Max_similitud.append(max_similarity)\n",
        "\n",
        "    return Prom_similitud, Max_similitud"
      ],
      "metadata": {
        "id": "-Pj5HesmXbya"
      },
      "execution_count": 112,
      "outputs": []
    },
    {
      "cell_type": "code",
      "source": [
        "# Aplicar la función a todos los estudiantes\n",
        "data['jaccard_similarity_avg_student'], data['jaccard_similarity_max_student'] = jaccard_similarity_per_student(data, respuestas_cols)\n",
        "print(data[['Genero', 'jaccard_similarity_avg_student', 'jaccard_similarity_max_student']].sort_values(by='jaccard_similarity_avg_student', ascending=False).head())\n"
      ],
      "metadata": {
        "colab": {
          "base_uri": "https://localhost:8080/"
        },
        "id": "vl98HhrlYMP1",
        "outputId": "995f52a6-8172-44ac-ca21-693cb9f59dc5"
      },
      "execution_count": 113,
      "outputs": [
        {
          "output_type": "stream",
          "name": "stdout",
          "text": [
            "   Genero  jaccard_similarity_avg_student  jaccard_similarity_max_student\n",
            "22      M                        0.141352                        0.218045\n",
            "21      M                        0.137762                        0.218045\n",
            "37      M                        0.134497                        0.250572\n",
            "36      M                        0.131516                        0.193488\n",
            "32      M                        0.130328                        0.185556\n"
          ]
        }
      ]
    },
    {
      "cell_type": "markdown",
      "source": [
        "El estudiante número 22 presenta la mayor similitud promedio con otros estudiantes del grupo, con un valor de 0.141352. Esto significa que, en promedio, sus respuestas coinciden aproximadamente en un 14% con las de sus compañeros. Su similitud máxima con otro estudiante es de 0.218045, lo que indica que hay al menos una tarea en donde sus respuestas fueron un 21% similares a la de otro compañero. Los demás estudiantes tienen similitudes promedio entre el 13% y el 14%, lo que sugiere que no existen grandes diferencias en la consistencia de las respuestas entre ellos.\n",
        "\n"
      ],
      "metadata": {
        "id": "zLmWf4OSWwc0"
      }
    },
    {
      "cell_type": "markdown",
      "metadata": {
        "id": "b4UJzPMdCsx6"
      },
      "source": [
        "### A nivel de tareas"
      ]
    },
    {
      "cell_type": "code",
      "source": [
        "#Volver a cargar los datos porqueel df respuestas_col se reescribió arriba\n",
        "data = pd.read_excel('https://github.com/sergiomora03/AdvancedTopicsAnalytics/raw/main/datasets/Consolidado_respuestas_escribir_v2.xlsx')"
      ],
      "metadata": {
        "id": "UKkr9GiXb72-"
      },
      "execution_count": 114,
      "outputs": []
    },
    {
      "cell_type": "code",
      "source": [
        "respuestas_cols = data.columns.difference(['Genero'])\n",
        "respuestas_cols"
      ],
      "metadata": {
        "colab": {
          "base_uri": "https://localhost:8080/"
        },
        "id": "YYwFXC4scCn4",
        "outputId": "303ced90-c755-487f-d474-512b7d69dd14"
      },
      "execution_count": 115,
      "outputs": [
        {
          "output_type": "execute_result",
          "data": {
            "text/plain": [
              "Index(['E1 - Examples of Time Series Analysis', 'E10 - REST-API',\n",
              "       'E11 - Natural Language Processing Overview', 'E4 - Panel Data',\n",
              "       'E6 - Decison Trees', 'E8 - Ensemble Trees Overview'],\n",
              "      dtype='object')"
            ]
          },
          "metadata": {},
          "execution_count": 115
        }
      ]
    },
    {
      "cell_type": "code",
      "source": [
        "#Función para calcular similitud de Jaccard comparando las respuestas de una misma tarea entre todos los estudiantes\n",
        "def jaccard_similarity_per_homework(df, task_column):\n",
        "    sim_matrix = []\n",
        "\n",
        "    # Iterar sobre cada par de estudiantes\n",
        "    for i, row_i in df.iterrows():\n",
        "        respuesta_estudiante_i = row_i[task_column]\n",
        "\n",
        "        for j, row_j in df.iterrows():\n",
        "            if i != j:\n",
        "                respuesta_estudiante_j = row_j[task_column]\n",
        "\n",
        "                # Calcular la similitud de Jaccard entre las respuestas de la tarea específica\n",
        "                sim = jaccard_similarity(respuesta_estudiante_i, respuesta_estudiante_j)\n",
        "                sim_matrix.append(sim)\n",
        "\n",
        "    if len(sim_matrix) > 0:\n",
        "        avg_similarity = np.mean(sim_matrix) #la media\n",
        "        max_similarity = np.max(sim_matrix) #el maximo\n",
        "    else:\n",
        "        avg_similarity = np.nan\n",
        "        max_similarity = np.nan\n",
        "\n",
        "    return avg_similarity, max_similarity\n",
        "\n",
        "promedio_similitud_por_tarea = []\n",
        "maxima_similitud_por_tarea = []\n",
        "\n",
        "for task_column in respuestas_cols:\n",
        "    avg_similarity, max_similarity = jaccard_similarity_per_homework(data, task_column)\n",
        "    promedio_similitud_por_tarea.append(avg_similarity)\n",
        "    maxima_similitud_por_tarea.append(max_similarity)"
      ],
      "metadata": {
        "id": "zjvpi6wc3Xea"
      },
      "execution_count": 116,
      "outputs": []
    },
    {
      "cell_type": "code",
      "source": [
        "resultados_tarea = pd.DataFrame({\n",
        "    'Tarea': respuestas_cols,\n",
        "    'Promedio_similitud': promedio_similitud_por_tarea,\n",
        "    'Maxima_similitud': maxima_similitud_por_tarea\n",
        "})\n",
        "\n",
        "print(resultados_tarea.sort_values(by='Promedio_similitud', ascending=False))"
      ],
      "metadata": {
        "colab": {
          "base_uri": "https://localhost:8080/"
        },
        "id": "hgFIhxsObBal",
        "outputId": "9bb56235-0531-4d96-e348-ab24f66d43d7"
      },
      "execution_count": 117,
      "outputs": [
        {
          "output_type": "stream",
          "name": "stdout",
          "text": [
            "                                        Tarea  Promedio_similitud  \\\n",
            "2  E11 - Natural Language Processing Overview            0.425815   \n",
            "1                              E10 - REST-API            0.112401   \n",
            "3                             E4 - Panel Data            0.109551   \n",
            "5                E8 - Ensemble Trees Overview            0.095036   \n",
            "4                          E6 - Decison Trees            0.088971   \n",
            "0       E1 - Examples of Time Series Analysis            0.063967   \n",
            "\n",
            "   Maxima_similitud  \n",
            "2          1.000000  \n",
            "1          0.470395  \n",
            "3          1.000000  \n",
            "5          1.000000  \n",
            "4          1.000000  \n",
            "0          1.000000  \n"
          ]
        }
      ]
    },
    {
      "cell_type": "markdown",
      "source": [
        "En términos generales, la mayor similitud se observa en la tarea E11 - Natural Language Processing Overview, donde se registra un promedio de similitud de 0.42 entre las respuestas de los 46 estudiantes. En contraste, la tarea E1 - Examples of Time Series Analysis presenta el promedio más bajo de similitud.\n",
        "\n",
        "Sin embargo, se destaca que en 5 de las 6 taredas hay al menos dos cuyas respuesras son identicas."
      ],
      "metadata": {
        "id": "lkTKgraWcj4X"
      }
    },
    {
      "cell_type": "markdown",
      "metadata": {
        "id": "B7TyqASoN1sO"
      },
      "source": [
        "# Exercise 2.3\n",
        "\n",
        "Create a classifier to predict the gender of each student\n",
        "\n"
      ]
    },
    {
      "cell_type": "markdown",
      "metadata": {
        "id": "UAOfSdxBCsx7"
      },
      "source": [
        "## 2.3.1 RANDOM\n"
      ]
    },
    {
      "cell_type": "code",
      "source": [
        "import pandas as pd\n",
        "import numpy as np\n",
        "from sklearn.model_selection import train_test_split\n",
        "from sklearn.feature_extraction.text import TfidfVectorizer\n",
        "from sklearn.ensemble import RandomForestClassifier\n",
        "from sklearn.metrics import classification_report, confusion_matrix\n",
        "from imblearn.over_sampling import SMOTE\n",
        "from sklearn.linear_model import LogisticRegression\n",
        "from sklearn.model_selection import train_test_split, GridSearchCV\n"
      ],
      "metadata": {
        "id": "042SD8ozePnB"
      },
      "execution_count": 118,
      "outputs": []
    },
    {
      "cell_type": "code",
      "source": [
        "#Unir todas las respuestas de cada estudiante\n",
        "data['respuestas_combinadas'] = data[respuestas_cols].apply(lambda row: ' '.join(row.dropna().astype(str)), axis=1)\n",
        "\n",
        "# vectorizar\n",
        "vectorizer = TfidfVectorizer(stop_words='english')\n",
        "X = vectorizer.fit_transform(data['respuestas_combinadas'])\n",
        "y = data['Genero'].map({'M': 0, 'F': 1})"
      ],
      "metadata": {
        "id": "xh6N95lJfJNZ"
      },
      "execution_count": 119,
      "outputs": []
    },
    {
      "cell_type": "code",
      "source": [
        "#Dividir en train y test\n",
        "X_train, X_test, y_train, y_test = train_test_split(X, y, test_size=0.3, random_state=42)\n",
        "\n",
        "#Equilibrar las clases ya que el modelo está presentando problemas para predecir a las mujeres\n",
        "smote = SMOTE(random_state=42)\n",
        "X_train_res, y_train_res = smote.fit_resample(X_train, y_train)"
      ],
      "metadata": {
        "id": "UpgeJ0gnfcx9"
      },
      "execution_count": 120,
      "outputs": []
    },
    {
      "cell_type": "code",
      "source": [
        "model = RandomForestClassifier(random_state=42)\n",
        "model.fit(X_train_res, y_train_res)\n",
        "y_pred = model.predict(X_test)\n",
        "\n",
        "# Paso 8: Evaluar el modelo\n",
        "print(\"Confusion Matrix:\")\n",
        "print(confusion_matrix(y_test, y_pred))\n",
        "\n",
        "print(\"\\nClassification Report:\")\n",
        "print(classification_report(y_test, y_pred))"
      ],
      "metadata": {
        "colab": {
          "base_uri": "https://localhost:8080/"
        },
        "id": "n5Zde3mifvpq",
        "outputId": "6aa2786e-6697-41e4-d05a-40def7e7470c"
      },
      "execution_count": 121,
      "outputs": [
        {
          "output_type": "stream",
          "name": "stdout",
          "text": [
            "Confusion Matrix:\n",
            "[[11  0]\n",
            " [ 3  0]]\n",
            "\n",
            "Classification Report:\n",
            "              precision    recall  f1-score   support\n",
            "\n",
            "           0       0.79      1.00      0.88        11\n",
            "           1       0.00      0.00      0.00         3\n",
            "\n",
            "    accuracy                           0.79        14\n",
            "   macro avg       0.39      0.50      0.44        14\n",
            "weighted avg       0.62      0.79      0.69        14\n",
            "\n"
          ]
        },
        {
          "output_type": "stream",
          "name": "stderr",
          "text": [
            "/usr/local/lib/python3.10/dist-packages/sklearn/metrics/_classification.py:1531: UndefinedMetricWarning: Precision is ill-defined and being set to 0.0 in labels with no predicted samples. Use `zero_division` parameter to control this behavior.\n",
            "  _warn_prf(average, modifier, f\"{metric.capitalize()} is\", len(result))\n",
            "/usr/local/lib/python3.10/dist-packages/sklearn/metrics/_classification.py:1531: UndefinedMetricWarning: Precision is ill-defined and being set to 0.0 in labels with no predicted samples. Use `zero_division` parameter to control this behavior.\n",
            "  _warn_prf(average, modifier, f\"{metric.capitalize()} is\", len(result))\n",
            "/usr/local/lib/python3.10/dist-packages/sklearn/metrics/_classification.py:1531: UndefinedMetricWarning: Precision is ill-defined and being set to 0.0 in labels with no predicted samples. Use `zero_division` parameter to control this behavior.\n",
            "  _warn_prf(average, modifier, f\"{metric.capitalize()} is\", len(result))\n"
          ]
        }
      ]
    },
    {
      "cell_type": "markdown",
      "metadata": {
        "id": "gxeMZq0TCsx7"
      },
      "source": [
        "## 2.3.2 Regresion lineal"
      ]
    },
    {
      "cell_type": "code",
      "source": [
        "#Regularizar la red\n",
        "param_grid = {\n",
        "    'C': [0.01, 0.1, 1, 10, 100],\n",
        "    'solver': ['liblinear', 'lbfgs']\n",
        "}\n",
        "\n",
        "model = LogisticRegression(class_weight='balanced', random_state=42)\n",
        "\n",
        "# GridSearchCV para encontrar los mejores hiperparámetros\n",
        "grid_search = GridSearchCV(model, param_grid, cv=5, scoring='f1_weighted')\n",
        "grid_search.fit(X_train_res, y_train_res)\n",
        "\n",
        "# Evaluar el mejor modelo encontrado\n",
        "best_model = grid_search.best_estimator_\n",
        "y_pred = best_model.predict(X_test)\n",
        "\n",
        "# Imprimir los resultados\n",
        "print(\"Mejores hiperparámetros:\", grid_search.best_params_)\n",
        "print(\"Accuracy:\", accuracy_score(y_test, y_pred))\n",
        "print(classification_report(y_test, y_pred))"
      ],
      "metadata": {
        "colab": {
          "base_uri": "https://localhost:8080/"
        },
        "id": "33l0ZvrjhG0p",
        "outputId": "c8d84207-bca9-4b23-e8ae-50f12aa5d42b"
      },
      "execution_count": 122,
      "outputs": [
        {
          "output_type": "stream",
          "name": "stdout",
          "text": [
            "Mejores hiperparámetros: {'C': 100, 'solver': 'liblinear'}\n",
            "Accuracy: 0.7857142857142857\n",
            "              precision    recall  f1-score   support\n",
            "\n",
            "           0       0.79      1.00      0.88        11\n",
            "           1       0.00      0.00      0.00         3\n",
            "\n",
            "    accuracy                           0.79        14\n",
            "   macro avg       0.39      0.50      0.44        14\n",
            "weighted avg       0.62      0.79      0.69        14\n",
            "\n"
          ]
        },
        {
          "output_type": "stream",
          "name": "stderr",
          "text": [
            "/usr/local/lib/python3.10/dist-packages/sklearn/metrics/_classification.py:1531: UndefinedMetricWarning: Precision is ill-defined and being set to 0.0 in labels with no predicted samples. Use `zero_division` parameter to control this behavior.\n",
            "  _warn_prf(average, modifier, f\"{metric.capitalize()} is\", len(result))\n",
            "/usr/local/lib/python3.10/dist-packages/sklearn/metrics/_classification.py:1531: UndefinedMetricWarning: Precision is ill-defined and being set to 0.0 in labels with no predicted samples. Use `zero_division` parameter to control this behavior.\n",
            "  _warn_prf(average, modifier, f\"{metric.capitalize()} is\", len(result))\n",
            "/usr/local/lib/python3.10/dist-packages/sklearn/metrics/_classification.py:1531: UndefinedMetricWarning: Precision is ill-defined and being set to 0.0 in labels with no predicted samples. Use `zero_division` parameter to control this behavior.\n",
            "  _warn_prf(average, modifier, f\"{metric.capitalize()} is\", len(result))\n"
          ]
        }
      ]
    },
    {
      "cell_type": "code",
      "execution_count": null,
      "metadata": {
        "id": "CUZbkTjFCsx8",
        "outputId": "d81ebc65-fde0-46b8-80c3-959c99f80354"
      },
      "outputs": [
        {
          "data": {
            "text/plain": [
              "Genero\n",
              "M    36\n",
              "F    10\n",
              "Name: count, dtype: int64"
            ]
          },
          "execution_count": 29,
          "metadata": {},
          "output_type": "execute_result"
        }
      ],
      "source": [
        "data['Genero'].value_counts()"
      ]
    },
    {
      "cell_type": "markdown",
      "source": [
        "El modelo presenta una buena identificación de estudiantes masculinos (70% de precisión y 100% de recall) pero falla completamente en identificar el género femenino, lo que sugiere un posible sesgo en los datos o un problema en la representación de las clases, ya que se evidencipó que el género femenino se encuentra subrepresentado. Para mejorar el rendimiento, sería importantante probar más técnicas de balanceo de los datos y otras técnicas de NLP para procesar las respuestas de los estudiantes."
      ],
      "metadata": {
        "id": "PDM268nSh9V_"
      }
    },
    {
      "cell_type": "markdown",
      "metadata": {
        "id": "fOHkZxonN1sP"
      },
      "source": [
        "# Exercise 2.4\n",
        "Classify group members into different subgroups (minimum 3) according to a characteristic of your choice."
      ]
    },
    {
      "cell_type": "markdown",
      "metadata": {
        "id": "t3pTxvfTCsx8"
      },
      "source": [
        "### Clasificación por diversidad"
      ]
    },
    {
      "cell_type": "code",
      "source": [
        "#Vamos a retomar la definición de la diversidad léxica que calculamos al principio\n",
        "for column in columns_to_analyze:\n",
        "    data[f'diversity_{column}'] = data[column].apply(vocabulary_diversity)\n",
        "\n",
        "diversity_columns = [f'diversity_{column}' for column in columns_to_analyze]\n",
        "data['diversidad_lextica'] = data[diversity_columns].mean(axis=1)\n",
        "\n",
        "# Cluster por diversidad léxica\n",
        "n_clusters = 3  # Número de subgrupos\n",
        "kmeans = KMeans(n_clusters=n_clusters, random_state=42)\n",
        "data['subgrupo'] = kmeans.fit_predict(data[['diversidad_lextica']])\n"
      ],
      "metadata": {
        "id": "C3YB_2AYlyA8"
      },
      "execution_count": 124,
      "outputs": []
    },
    {
      "cell_type": "code",
      "source": [
        "plt.figure(figsize=(8, 6))\n",
        "plt.scatter(data.index, data['diversidad_lextica'], c=data['subgrupo'], cmap='viridis', marker='o')\n",
        "plt.title('Clustering de miembros en subgrupos según diversidad léxica')\n",
        "plt.xlabel('Índice del Miembro')\n",
        "plt.ylabel('Diversidad Léxica')\n",
        "plt.colorbar(label='Subgrupo')\n",
        "plt.show()\n",
        "\n",
        "print(data[['Genero', 'diversidad_lextica', 'subgrupo']])"
      ],
      "metadata": {
        "colab": {
          "base_uri": "https://localhost:8080/",
          "height": 1000
        },
        "id": "WNZMWrAym-OJ",
        "outputId": "d83edb3e-c86b-4a77-98e7-4f9e7035d761"
      },
      "execution_count": 125,
      "outputs": [
        {
          "output_type": "display_data",
          "data": {
            "text/plain": [
              "<Figure size 800x600 with 2 Axes>"
            ],
            "image/png": "[encoded data removed]"
          },
          "metadata": {}
        },
        {
          "output_type": "stream",
          "name": "stdout",
          "text": [
            "   Genero  diversidad_lextica  subgrupo\n",
            "0       M            0.468363         0\n",
            "1       F            0.478535         0\n",
            "2       M            0.462639         0\n",
            "3       M            0.443759         0\n",
            "4       M            0.596378         2\n",
            "5       M            0.379421         1\n",
            "6       M            0.336940         1\n",
            "7       M            0.488754         0\n",
            "8       F            0.428075         0\n",
            "9       M            0.572735         2\n",
            "10      M            0.358656         1\n",
            "11      F            0.484932         0\n",
            "12      M            0.417916         0\n",
            "13      M            0.450066         0\n",
            "14      M            0.583601         2\n",
            "15      M            0.646261         2\n",
            "16      M            0.503799         0\n",
            "17      M            0.513201         0\n",
            "18      M            0.421989         0\n",
            "19      M            0.602985         2\n",
            "20      F            0.612563         2\n",
            "21      M            0.457032         0\n",
            "22      M            0.486855         0\n",
            "23      M            0.460286         0\n",
            "24      M            0.375348         1\n",
            "25      F            0.688123         2\n",
            "26      M            0.390169         1\n",
            "27      M            0.296550         1\n",
            "28      F            0.485469         0\n",
            "29      M            0.378216         1\n",
            "30      F            0.554745         2\n",
            "31      M            0.280253         1\n",
            "32      M            0.336669         1\n",
            "33      M            0.572051         2\n",
            "34      F            0.582602         2\n",
            "35      M            0.471914         0\n",
            "36      M            0.460476         0\n",
            "37      M            0.365568         1\n",
            "38      M            0.484512         0\n",
            "39      F            0.569630         2\n",
            "40      F            0.602481         2\n",
            "41      M            0.596999         2\n",
            "42      M            0.440761         0\n",
            "43      M            0.466564         0\n",
            "44      M            0.484463         0\n",
            "45      M            0.477819         0\n"
          ]
        }
      ]
    },
    {
      "cell_type": "markdown",
      "source": [
        "**Se han identificado tres clústeres entre los estudiantes, clasificados según su diversidad léxica (que se entiende como la variedad del vocabulario utilizado en sus respuestas). El primer grupo presenta una diversidad léxica que varía entre 0.30 y 0.40, el segundo grupo oscila entre 0.40 y 0.50, y el tercer grupo muestra una diversidad léxica que va de 0.55 a 0.70.**"
      ],
      "metadata": {
        "id": "s8VApPm5nB33"
      }
    }
  ],
  "metadata": {
    "colab": {
      "provenance": []
    },
    "kernelspec": {
      "display_name": "Python 3",
      "language": "python",
      "name": "python3"
    },
    "language_info": {
      "codemirror_mode": {
        "name": "ipython",
        "version": 3
      },
      "file_extension": ".py",
      "mimetype": "text/x-python",
      "name": "python",
      "nbconvert_exporter": "python",
      "pygments_lexer": "ipython3",
      "version": "3.11.5"
    }
  },
  "nbformat": 4,
  "nbformat_minor": 0
}