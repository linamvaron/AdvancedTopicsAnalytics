{
  "nbformat": 4,
  "nbformat_minor": 0,
  "metadata": {
    "colab": {
      "provenance": []
    },
    "kernelspec": {
      "display_name": "Python 3",
      "language": "python",
      "name": "python3"
    },
    "language_info": {
      "codemirror_mode": {
        "name": "ipython",
        "version": 3
      },
      "file_extension": ".py",
      "mimetype": "text/x-python",
      "name": "python",
      "nbconvert_exporter": "python",
      "pygments_lexer": "ipython3",
      "version": "3.6.13"
    }
  },
  "cells": [
    {
      "cell_type": "markdown",
      "metadata": {
        "id": "8Skr49zlgwe5"
      },
      "source": [
        "# Exercise 3\n",
        "## Spam Classification\n",
        "### Context\n",
        "The SMS Spam Collection is a set of SMS tagged messages that have been collected for SMS Spam research. It contains one set of SMS messages in English of 5,574 messages, tagged acording being ham (legitimate) or spam.\n",
        "\n",
        "### Content\n",
        "The files contain one message per line. Each line is composed by two columns: v1 contains the label (ham or spam) and v2 contains the raw text.\n",
        "\n",
        "This corpus has been collected from free or free for research sources at the Internet:\n",
        "\n",
        "- A collection of 425 SMS spam messages was manually extracted from the Grumbletext Web site. This is a UK forum in which cell phone users make public claims about SMS spam messages, most of them without reporting the very spam message received. The identification of the text of spam messages in the claims is a very hard and time-consuming task, and it involved carefully scanning hundreds of web pages. The Grumbletext Web site is: [Web Link](http://www.grumbletext.co.uk/).\n",
        "- A subset of 3,375 SMS randomly chosen ham messages of the NUS SMS Corpus (NSC), which is a dataset of about 10,000 legitimate messages collected for research at the Department of Computer Science at the National University of Singapore. The messages largely originate from Singaporeans and mostly from students attending the University. These messages were collected from volunteers who were made aware that their contributions were going to be made publicly available. The NUS SMS Corpus is avalaible at: [Web Link](http://www.comp.nus.edu.sg/~rpnlpir/downloads/corpora/smsCorpus/).\n",
        "- A list of 450 SMS ham messages collected from Caroline Tag's PhD Thesis available at [Web Link](http://etheses.bham.ac.uk/253/1/Tagg09PhD.pdf).\n",
        "- Finally, we have incorporated the SMS Spam Corpus v.0.1 Big. It has 1,002 SMS ham messages and 322 spam messages and it is public available at: [Web Link](http://www.esp.uem.es/jmgomez/smsspamcorpus/). This corpus has been used in the following academic researches:\n",
        "\n",
        "Acknowledgements\n",
        "The original dataset can be found [here](https://archive.ics.uci.edu/ml/datasets/SMS+Spam+Collection). The creators would like to note that in case you find the dataset useful, please make a reference to previous paper and the web page: http://www.dt.fee.unicamp.br/~tiago/smsspamcollection/ in your papers, research, etc.\n",
        "\n",
        "We offer a comprehensive study of this corpus in the following paper. This work presents a number of statistics, studies and baseline results for several machine learning methods.\n",
        "\n",
        "Almeida, T.A., GÃ³mez Hidalgo, J.M., Yamakami, A. Contributions to the Study of SMS Spam Filtering: New Collection and Results. Proceedings of the 2011 ACM Symposium on Document Engineering (DOCENG'11), Mountain View, CA, USA, 2011."
      ]
    },
    {
      "cell_type": "code",
      "source": [
        "!pip install wget"
      ],
      "metadata": {
        "colab": {
          "base_uri": "https://localhost:8080/"
        },
        "id": "sK8H8navE5Eo",
        "outputId": "2da26fa5-1bd1-43e4-d007-5412a7dc457a"
      },
      "execution_count": 1,
      "outputs": [
        {
          "output_type": "stream",
          "name": "stdout",
          "text": [
            "Collecting wget\n",
            "  Downloading wget-3.2.zip (10 kB)\n",
            "  Preparing metadata (setup.py) ... \u001b[?25l\u001b[?25hdone\n",
            "Building wheels for collected packages: wget\n",
            "  Building wheel for wget (setup.py) ... \u001b[?25l\u001b[?25hdone\n",
            "  Created wheel for wget: filename=wget-3.2-py3-none-any.whl size=9656 sha256=a6becb91d4aca580e0b0eb2ed1e3df82456c23c09a0e3228147a49b5ae29f97f\n",
            "  Stored in directory: /root/.cache/pip/wheels/8b/f1/7f/5c94f0a7a505ca1c81cd1d9208ae2064675d97582078e6c769\n",
            "Successfully built wget\n",
            "Installing collected packages: wget\n",
            "Successfully installed wget-3.2\n"
          ]
        }
      ]
    },
    {
      "cell_type": "code",
      "metadata": {
        "id": "vgef-TTiglKr",
        "colab": {
          "base_uri": "https://localhost:8080/"
        },
        "outputId": "24795021-78b1-4759-d550-3804d91e6228"
      },
      "source": [
        "import pandas as pd\n",
        "import numpy as np\n",
        "import wget\n",
        "import os\n",
        "from zipfile import ZipFile\n",
        "\n",
        "from nltk.corpus import stopwords\n",
        "from nltk.tokenize import word_tokenize\n",
        "import nltk\n",
        "import string\n",
        "\n",
        "from sklearn.model_selection import train_test_split\n",
        "from sklearn.linear_model import LogisticRegression\n",
        "from sklearn.ensemble import RandomForestClassifier\n",
        "from sklearn.metrics import accuracy_score, precision_score, recall_score, f1_score, auc, roc_curve\n",
        "\n",
        "import gensim\n",
        "from gensim.models import Word2Vec\n",
        "import warnings\n",
        "\n",
        "\n",
        "warnings.filterwarnings('ignore')\n",
        "nltk.download('stopwords')\n",
        "nltk.download('punkt')"
      ],
      "execution_count": 2,
      "outputs": [
        {
          "output_type": "stream",
          "name": "stderr",
          "text": [
            "[nltk_data] Downloading package stopwords to /root/nltk_data...\n",
            "[nltk_data]   Unzipping corpora/stopwords.zip.\n",
            "[nltk_data] Downloading package punkt to /root/nltk_data...\n",
            "[nltk_data]   Unzipping tokenizers/punkt.zip.\n"
          ]
        },
        {
          "output_type": "execute_result",
          "data": {
            "text/plain": [
              "True"
            ]
          },
          "metadata": {},
          "execution_count": 2
        }
      ]
    },
    {
      "cell_type": "code",
      "metadata": {
        "colab": {
          "base_uri": "https://localhost:8080/"
        },
        "id": "DmxHMGIEeNAl",
        "outputId": "a5ae55c2-88b2-4682-aa1b-9baf329df09a"
      },
      "source": [
        "try :\n",
        "    from google.colab import files\n",
        "    !wget https://archive.ics.uci.edu/ml/machine-learning-databases/00228/smsspamcollection.zip\n",
        "    !unzip smsspamcollection.zip\n",
        "    df = pd.read_csv('SMSSpamCollection', sep='\\t',  header=None, names=['target', 'text'])\n",
        "except ModuleNotFoundError :\n",
        "    url = 'https://archive.ics.uci.edu/ml/machine-learning-databases/00228/smsspamcollection.zip'\n",
        "    path = os.getcwd()+'\\Data'\n",
        "    wget.download(url,path)\n",
        "    temp=path+'\\smsspamcollection.zip'\n",
        "    file = ZipFile(temp)\n",
        "    file.extractall(path)\n",
        "    file.close()\n",
        "    df = pd.read_csv(path + '\\SMSSpamCollection', sep='\\t',  header=None, names=['target', 'text'])"
      ],
      "execution_count": 3,
      "outputs": [
        {
          "output_type": "stream",
          "name": "stdout",
          "text": [
            "--2024-09-22 14:56:36--  https://archive.ics.uci.edu/ml/machine-learning-databases/00228/smsspamcollection.zip\n",
            "Resolving archive.ics.uci.edu (archive.ics.uci.edu)... 128.195.10.252\n",
            "Connecting to archive.ics.uci.edu (archive.ics.uci.edu)|128.195.10.252|:443... connected.\n",
            "HTTP request sent, awaiting response... 200 OK\n",
            "Length: unspecified\n",
            "Saving to: ‘smsspamcollection.zip’\n",
            "\n",
            "smsspamcollection.z     [  <=>               ] 198.65K   648KB/s    in 0.3s    \n",
            "\n",
            "2024-09-22 14:56:37 (648 KB/s) - ‘smsspamcollection.zip’ saved [203415]\n",
            "\n",
            "Archive:  smsspamcollection.zip\n",
            "  inflating: SMSSpamCollection       \n",
            "  inflating: readme                  \n"
          ]
        }
      ]
    },
    {
      "cell_type": "code",
      "metadata": {
        "colab": {
          "base_uri": "https://localhost:8080/",
          "height": 206
        },
        "id": "hPwGRB3ghm7y",
        "outputId": "2df6e3a3-ea7c-477d-afc2-593fda19f871"
      },
      "source": [
        "df.head()"
      ],
      "execution_count": 4,
      "outputs": [
        {
          "output_type": "execute_result",
          "data": {
            "text/plain": [
              "  target                                               text\n",
              "0    ham  Go until jurong point, crazy.. Available only ...\n",
              "1    ham                      Ok lar... Joking wif u oni...\n",
              "2   spam  Free entry in 2 a wkly comp to win FA Cup fina...\n",
              "3    ham  U dun say so early hor... U c already then say...\n",
              "4    ham  Nah I don't think he goes to usf, he lives aro..."
            ],
            "text/html": [
              "\n",
              "  <div id=\"df-60865e42-553a-443e-bdd1-cd5f398c42cb\" class=\"colab-df-container\">\n",
              "    <div>\n",
              "<style scoped>\n",
              "    .dataframe tbody tr th:only-of-type {\n",
              "        vertical-align: middle;\n",
              "    }\n",
              "\n",
              "    .dataframe tbody tr th {\n",
              "        vertical-align: top;\n",
              "    }\n",
              "\n",
              "    .dataframe thead th {\n",
              "        text-align: right;\n",
              "    }\n",
              "</style>\n",
              "<table border=\"1\" class=\"dataframe\">\n",
              "  <thead>\n",
              "    <tr style=\"text-align: right;\">\n",
              "      <th></th>\n",
              "      <th>target</th>\n",
              "      <th>text</th>\n",
              "    </tr>\n",
              "  </thead>\n",
              "  <tbody>\n",
              "    <tr>\n",
              "      <th>0</th>\n",
              "      <td>ham</td>\n",
              "      <td>Go until jurong point, crazy.. Available only ...</td>\n",
              "    </tr>\n",
              "    <tr>\n",
              "      <th>1</th>\n",
              "      <td>ham</td>\n",
              "      <td>Ok lar... Joking wif u oni...</td>\n",
              "    </tr>\n",
              "    <tr>\n",
              "      <th>2</th>\n",
              "      <td>spam</td>\n",
              "      <td>Free entry in 2 a wkly comp to win FA Cup fina...</td>\n",
              "    </tr>\n",
              "    <tr>\n",
              "      <th>3</th>\n",
              "      <td>ham</td>\n",
              "      <td>U dun say so early hor... U c already then say...</td>\n",
              "    </tr>\n",
              "    <tr>\n",
              "      <th>4</th>\n",
              "      <td>ham</td>\n",
              "      <td>Nah I don't think he goes to usf, he lives aro...</td>\n",
              "    </tr>\n",
              "  </tbody>\n",
              "</table>\n",
              "</div>\n",
              "    <div class=\"colab-df-buttons\">\n",
              "\n",
              "  <div class=\"colab-df-container\">\n",
              "    <button class=\"colab-df-convert\" onclick=\"convertToInteractive('df-60865e42-553a-443e-bdd1-cd5f398c42cb')\"\n",
              "            title=\"Convert this dataframe to an interactive table.\"\n",
              "            style=\"display:none;\">\n",
              "\n",
              "  <svg xmlns=\"http://www.w3.org/2000/svg\" height=\"24px\" viewBox=\"0 -960 960 960\">\n",
              "    <path d=\"M120-120v-720h720v720H120Zm60-500h600v-160H180v160Zm220 220h160v-160H400v160Zm0 220h160v-160H400v160ZM180-400h160v-160H180v160Zm440 0h160v-160H620v160ZM180-180h160v-160H180v160Zm440 0h160v-160H620v160Z\"/>\n",
              "  </svg>\n",
              "    </button>\n",
              "\n",
              "  <style>\n",
              "    .colab-df-container {\n",
              "      display:flex;\n",
              "      gap: 12px;\n",
              "    }\n",
              "\n",
              "    .colab-df-convert {\n",
              "      background-color: #E8F0FE;\n",
              "      border: none;\n",
              "      border-radius: 50%;\n",
              "      cursor: pointer;\n",
              "      display: none;\n",
              "      fill: #1967D2;\n",
              "      height: 32px;\n",
              "      padding: 0 0 0 0;\n",
              "      width: 32px;\n",
              "    }\n",
              "\n",
              "    .colab-df-convert:hover {\n",
              "      background-color: #E2EBFA;\n",
              "      box-shadow: 0px 1px 2px rgba(60, 64, 67, 0.3), 0px 1px 3px 1px rgba(60, 64, 67, 0.15);\n",
              "      fill: #174EA6;\n",
              "    }\n",
              "\n",
              "    .colab-df-buttons div {\n",
              "      margin-bottom: 4px;\n",
              "    }\n",
              "\n",
              "    [theme=dark] .colab-df-convert {\n",
              "      background-color: #3B4455;\n",
              "      fill: #D2E3FC;\n",
              "    }\n",
              "\n",
              "    [theme=dark] .colab-df-convert:hover {\n",
              "      background-color: #434B5C;\n",
              "      box-shadow: 0px 1px 3px 1px rgba(0, 0, 0, 0.15);\n",
              "      filter: drop-shadow(0px 1px 2px rgba(0, 0, 0, 0.3));\n",
              "      fill: #FFFFFF;\n",
              "    }\n",
              "  </style>\n",
              "\n",
              "    <script>\n",
              "      const buttonEl =\n",
              "        document.querySelector('#df-60865e42-553a-443e-bdd1-cd5f398c42cb button.colab-df-convert');\n",
              "      buttonEl.style.display =\n",
              "        google.colab.kernel.accessAllowed ? 'block' : 'none';\n",
              "\n",
              "      async function convertToInteractive(key) {\n",
              "        const element = document.querySelector('#df-60865e42-553a-443e-bdd1-cd5f398c42cb');\n",
              "        const dataTable =\n",
              "          await google.colab.kernel.invokeFunction('convertToInteractive',\n",
              "                                                    [key], {});\n",
              "        if (!dataTable) return;\n",
              "\n",
              "        const docLinkHtml = 'Like what you see? Visit the ' +\n",
              "          '<a target=\"_blank\" href=https://colab.research.google.com/notebooks/data_table.ipynb>data table notebook</a>'\n",
              "          + ' to learn more about interactive tables.';\n",
              "        element.innerHTML = '';\n",
              "        dataTable['output_type'] = 'display_data';\n",
              "        await google.colab.output.renderOutput(dataTable, element);\n",
              "        const docLink = document.createElement('div');\n",
              "        docLink.innerHTML = docLinkHtml;\n",
              "        element.appendChild(docLink);\n",
              "      }\n",
              "    </script>\n",
              "  </div>\n",
              "\n",
              "\n",
              "<div id=\"df-97e98d00-1c9d-4558-a02d-12bfd526392d\">\n",
              "  <button class=\"colab-df-quickchart\" onclick=\"quickchart('df-97e98d00-1c9d-4558-a02d-12bfd526392d')\"\n",
              "            title=\"Suggest charts\"\n",
              "            style=\"display:none;\">\n",
              "\n",
              "<svg xmlns=\"http://www.w3.org/2000/svg\" height=\"24px\"viewBox=\"0 0 24 24\"\n",
              "     width=\"24px\">\n",
              "    <g>\n",
              "        <path d=\"M19 3H5c-1.1 0-2 .9-2 2v14c0 1.1.9 2 2 2h14c1.1 0 2-.9 2-2V5c0-1.1-.9-2-2-2zM9 17H7v-7h2v7zm4 0h-2V7h2v10zm4 0h-2v-4h2v4z\"/>\n",
              "    </g>\n",
              "</svg>\n",
              "  </button>\n",
              "\n",
              "<style>\n",
              "  .colab-df-quickchart {\n",
              "      --bg-color: #E8F0FE;\n",
              "      --fill-color: #1967D2;\n",
              "      --hover-bg-color: #E2EBFA;\n",
              "      --hover-fill-color: #174EA6;\n",
              "      --disabled-fill-color: #AAA;\n",
              "      --disabled-bg-color: #DDD;\n",
              "  }\n",
              "\n",
              "  [theme=dark] .colab-df-quickchart {\n",
              "      --bg-color: #3B4455;\n",
              "      --fill-color: #D2E3FC;\n",
              "      --hover-bg-color: #434B5C;\n",
              "      --hover-fill-color: #FFFFFF;\n",
              "      --disabled-bg-color: #3B4455;\n",
              "      --disabled-fill-color: #666;\n",
              "  }\n",
              "\n",
              "  .colab-df-quickchart {\n",
              "    background-color: var(--bg-color);\n",
              "    border: none;\n",
              "    border-radius: 50%;\n",
              "    cursor: pointer;\n",
              "    display: none;\n",
              "    fill: var(--fill-color);\n",
              "    height: 32px;\n",
              "    padding: 0;\n",
              "    width: 32px;\n",
              "  }\n",
              "\n",
              "  .colab-df-quickchart:hover {\n",
              "    background-color: var(--hover-bg-color);\n",
              "    box-shadow: 0 1px 2px rgba(60, 64, 67, 0.3), 0 1px 3px 1px rgba(60, 64, 67, 0.15);\n",
              "    fill: var(--button-hover-fill-color);\n",
              "  }\n",
              "\n",
              "  .colab-df-quickchart-complete:disabled,\n",
              "  .colab-df-quickchart-complete:disabled:hover {\n",
              "    background-color: var(--disabled-bg-color);\n",
              "    fill: var(--disabled-fill-color);\n",
              "    box-shadow: none;\n",
              "  }\n",
              "\n",
              "  .colab-df-spinner {\n",
              "    border: 2px solid var(--fill-color);\n",
              "    border-color: transparent;\n",
              "    border-bottom-color: var(--fill-color);\n",
              "    animation:\n",
              "      spin 1s steps(1) infinite;\n",
              "  }\n",
              "\n",
              "  @keyframes spin {\n",
              "    0% {\n",
              "      border-color: transparent;\n",
              "      border-bottom-color: var(--fill-color);\n",
              "      border-left-color: var(--fill-color);\n",
              "    }\n",
              "    20% {\n",
              "      border-color: transparent;\n",
              "      border-left-color: var(--fill-color);\n",
              "      border-top-color: var(--fill-color);\n",
              "    }\n",
              "    30% {\n",
              "      border-color: transparent;\n",
              "      border-left-color: var(--fill-color);\n",
              "      border-top-color: var(--fill-color);\n",
              "      border-right-color: var(--fill-color);\n",
              "    }\n",
              "    40% {\n",
              "      border-color: transparent;\n",
              "      border-right-color: var(--fill-color);\n",
              "      border-top-color: var(--fill-color);\n",
              "    }\n",
              "    60% {\n",
              "      border-color: transparent;\n",
              "      border-right-color: var(--fill-color);\n",
              "    }\n",
              "    80% {\n",
              "      border-color: transparent;\n",
              "      border-right-color: var(--fill-color);\n",
              "      border-bottom-color: var(--fill-color);\n",
              "    }\n",
              "    90% {\n",
              "      border-color: transparent;\n",
              "      border-bottom-color: var(--fill-color);\n",
              "    }\n",
              "  }\n",
              "</style>\n",
              "\n",
              "  <script>\n",
              "    async function quickchart(key) {\n",
              "      const quickchartButtonEl =\n",
              "        document.querySelector('#' + key + ' button');\n",
              "      quickchartButtonEl.disabled = true;  // To prevent multiple clicks.\n",
              "      quickchartButtonEl.classList.add('colab-df-spinner');\n",
              "      try {\n",
              "        const charts = await google.colab.kernel.invokeFunction(\n",
              "            'suggestCharts', [key], {});\n",
              "      } catch (error) {\n",
              "        console.error('Error during call to suggestCharts:', error);\n",
              "      }\n",
              "      quickchartButtonEl.classList.remove('colab-df-spinner');\n",
              "      quickchartButtonEl.classList.add('colab-df-quickchart-complete');\n",
              "    }\n",
              "    (() => {\n",
              "      let quickchartButtonEl =\n",
              "        document.querySelector('#df-97e98d00-1c9d-4558-a02d-12bfd526392d button');\n",
              "      quickchartButtonEl.style.display =\n",
              "        google.colab.kernel.accessAllowed ? 'block' : 'none';\n",
              "    })();\n",
              "  </script>\n",
              "</div>\n",
              "\n",
              "    </div>\n",
              "  </div>\n"
            ],
            "application/vnd.google.colaboratory.intrinsic+json": {
              "type": "dataframe",
              "variable_name": "df",
              "summary": "{\n  \"name\": \"df\",\n  \"rows\": 5572,\n  \"fields\": [\n    {\n      \"column\": \"target\",\n      \"properties\": {\n        \"dtype\": \"category\",\n        \"num_unique_values\": 2,\n        \"samples\": [\n          \"spam\",\n          \"ham\"\n        ],\n        \"semantic_type\": \"\",\n        \"description\": \"\"\n      }\n    },\n    {\n      \"column\": \"text\",\n      \"properties\": {\n        \"dtype\": \"string\",\n        \"num_unique_values\": 5169,\n        \"samples\": [\n          \"K, makes sense, btw carlos is being difficult so you guys are gonna smoke while I go pick up the second batch and get gas\",\n          \"URGENT! Your mobile No *********** WON a \\u00a32,000 Bonus Caller Prize on 02/06/03! This is the 2nd attempt to reach YOU! Call 09066362220 ASAP! BOX97N7QP, 150ppm\"\n        ],\n        \"semantic_type\": \"\",\n        \"description\": \"\"\n      }\n    }\n  ]\n}"
            }
          },
          "metadata": {},
          "execution_count": 4
        }
      ]
    },
    {
      "cell_type": "code",
      "metadata": {
        "colab": {
          "base_uri": "https://localhost:8080/",
          "height": 195
        },
        "id": "rKpOnNz9hq-x",
        "outputId": "5ef5f68f-d169-4ac0-9408-1b27b10afe5c"
      },
      "source": [
        "display(df.shape) #Number of rows (instances) and columns in the dataset\n",
        "df[\"target\"].value_counts()/df.shape[0] #Class distribution in the dataset"
      ],
      "execution_count": 5,
      "outputs": [
        {
          "output_type": "display_data",
          "data": {
            "text/plain": [
              "(5572, 2)"
            ]
          },
          "metadata": {}
        },
        {
          "output_type": "execute_result",
          "data": {
            "text/plain": [
              "target\n",
              "ham     0.865937\n",
              "spam    0.134063\n",
              "Name: count, dtype: float64"
            ],
            "text/html": [
              "<div>\n",
              "<style scoped>\n",
              "    .dataframe tbody tr th:only-of-type {\n",
              "        vertical-align: middle;\n",
              "    }\n",
              "\n",
              "    .dataframe tbody tr th {\n",
              "        vertical-align: top;\n",
              "    }\n",
              "\n",
              "    .dataframe thead th {\n",
              "        text-align: right;\n",
              "    }\n",
              "</style>\n",
              "<table border=\"1\" class=\"dataframe\">\n",
              "  <thead>\n",
              "    <tr style=\"text-align: right;\">\n",
              "      <th></th>\n",
              "      <th>count</th>\n",
              "    </tr>\n",
              "    <tr>\n",
              "      <th>target</th>\n",
              "      <th></th>\n",
              "    </tr>\n",
              "  </thead>\n",
              "  <tbody>\n",
              "    <tr>\n",
              "      <th>ham</th>\n",
              "      <td>0.865937</td>\n",
              "    </tr>\n",
              "    <tr>\n",
              "      <th>spam</th>\n",
              "      <td>0.134063</td>\n",
              "    </tr>\n",
              "  </tbody>\n",
              "</table>\n",
              "</div><br><label><b>dtype:</b> float64</label>"
            ]
          },
          "metadata": {},
          "execution_count": 5
        }
      ]
    },
    {
      "cell_type": "code",
      "source": [
        "X = df['text']\n",
        "y = df['target'].map({'ham':0, 'spam':1})"
      ],
      "metadata": {
        "id": "2u_qu5GzGs7v"
      },
      "execution_count": 6,
      "outputs": []
    },
    {
      "cell_type": "code",
      "source": [
        "# split data into training and validation set\n",
        "X_train, X_test, y_train, y_test = train_test_split(X, y, stratify = df['target'], test_size = 0.3, random_state = 18)"
      ],
      "metadata": {
        "id": "y6W-OsRvNJK8"
      },
      "execution_count": 7,
      "outputs": []
    },
    {
      "cell_type": "markdown",
      "source": [
        "Preprocess the text data by removing stop words, converting all text to lowercase, and removing punctuation using NLTK package.\n"
      ],
      "metadata": {
        "id": "hUJxVPloNs8o"
      }
    },
    {
      "cell_type": "code",
      "source": [
        "stop_words = set(stopwords.words('english'))\n",
        "def preprocess(text):\n",
        "    text = text.lower()\n",
        "    text = ''.join([word for word in text if word not in string.punctuation])\n",
        "    tokens = word_tokenize(text)\n",
        "    tokens = [word for word in tokens if word not in stop_words]\n",
        "    return ' '.join(tokens)\n",
        "\n",
        "X_train = X_train.apply(preprocess)\n",
        "X_test = X_test.apply(preprocess)"
      ],
      "metadata": {
        "id": "8D2zWvpcNv-z"
      },
      "execution_count": 8,
      "outputs": []
    },
    {
      "cell_type": "code",
      "source": [
        "X_train.head()"
      ],
      "metadata": {
        "colab": {
          "base_uri": "https://localhost:8080/",
          "height": 241
        },
        "id": "wLil2tXuQ5eR",
        "outputId": "8828512c-8cdc-46e9-ff2e-4038c1aadbac"
      },
      "execution_count": 27,
      "outputs": [
        {
          "output_type": "execute_result",
          "data": {
            "text/plain": [
              "5453                       except theres chick huge boobs\n",
              "2881    last chance claim ur £150 worth discount vouch...\n",
              "3376                                                     \n",
              "2591    lol take member said aunt flow didnt visit 6 m...\n",
              "3188                                   howz persons story\n",
              "Name: text, dtype: object"
            ],
            "text/html": [
              "<div>\n",
              "<style scoped>\n",
              "    .dataframe tbody tr th:only-of-type {\n",
              "        vertical-align: middle;\n",
              "    }\n",
              "\n",
              "    .dataframe tbody tr th {\n",
              "        vertical-align: top;\n",
              "    }\n",
              "\n",
              "    .dataframe thead th {\n",
              "        text-align: right;\n",
              "    }\n",
              "</style>\n",
              "<table border=\"1\" class=\"dataframe\">\n",
              "  <thead>\n",
              "    <tr style=\"text-align: right;\">\n",
              "      <th></th>\n",
              "      <th>text</th>\n",
              "    </tr>\n",
              "  </thead>\n",
              "  <tbody>\n",
              "    <tr>\n",
              "      <th>5453</th>\n",
              "      <td>except theres chick huge boobs</td>\n",
              "    </tr>\n",
              "    <tr>\n",
              "      <th>2881</th>\n",
              "      <td>last chance claim ur £150 worth discount vouch...</td>\n",
              "    </tr>\n",
              "    <tr>\n",
              "      <th>3376</th>\n",
              "      <td></td>\n",
              "    </tr>\n",
              "    <tr>\n",
              "      <th>2591</th>\n",
              "      <td>lol take member said aunt flow didnt visit 6 m...</td>\n",
              "    </tr>\n",
              "    <tr>\n",
              "      <th>3188</th>\n",
              "      <td>howz persons story</td>\n",
              "    </tr>\n",
              "  </tbody>\n",
              "</table>\n",
              "</div><br><label><b>dtype:</b> object</label>"
            ]
          },
          "metadata": {},
          "execution_count": 27
        }
      ]
    },
    {
      "cell_type": "markdown",
      "source": [
        "Train a Word2Vec model on the preprocessed training data using Gensim package."
      ],
      "metadata": {
        "id": "hT3AWK7pOX5y"
      }
    },
    {
      "cell_type": "code",
      "source": [
        "sentences = [sentence.split() for sentence in X_train]\n",
        "model = Word2Vec(sentences, vector_size=100, window=5, negative=20, min_count=1, workers=4)  #min_count establece el número mínimo de apariciones que una palabra debe tener en el corpus para ser incluida en el entrenamiento."
      ],
      "metadata": {
        "id": "Gg_4OYMeObaV"
      },
      "execution_count": 28,
      "outputs": []
    },
    {
      "cell_type": "code",
      "source": [
        "sentences[0]"
      ],
      "metadata": {
        "colab": {
          "base_uri": "https://localhost:8080/"
        },
        "id": "i8Snt6hvTV3I",
        "outputId": "ac6d8e91-144b-4a43-d1dc-b060d79f8562"
      },
      "execution_count": 29,
      "outputs": [
        {
          "output_type": "execute_result",
          "data": {
            "text/plain": [
              "['except', 'theres', 'chick', 'huge', 'boobs']"
            ]
          },
          "metadata": {},
          "execution_count": 29
        }
      ]
    },
    {
      "cell_type": "markdown",
      "source": [
        "Convert the preprocessed text data to a vector representation using the Word2Vec model."
      ],
      "metadata": {
        "id": "ZJJPREbbOyon"
      }
    },
    {
      "cell_type": "code",
      "source": [
        "def vectorize(sentence):\n",
        "    words = sentence.split()\n",
        "    words_vecs = [model.wv[word] for word in words if word in model.wv]\n",
        "    if len(words_vecs) == 0:\n",
        "        return np.zeros(100)\n",
        "    words_vecs = np.array(words_vecs)\n",
        "    return words_vecs.mean(axis=0) #convierte cada oración en en un vector promedio de las palabras presentes en esa oración.\n",
        "\n",
        "X_train_w = np.array([vectorize(sentence) for sentence in X_train])\n",
        "X_test_w = np.array([vectorize(sentence) for sentence in X_test])"
      ],
      "metadata": {
        "id": "Qsg3iEZ0Ox8R"
      },
      "execution_count": 30,
      "outputs": []
    },
    {
      "cell_type": "markdown",
      "source": [
        "Train a classification model such as logistic regression, random forests, or support vector machines using the vectorised training data and the sentiment labels."
      ],
      "metadata": {
        "id": "w8wdim2yPY8_"
      }
    },
    {
      "cell_type": "code",
      "source": [
        "clf = LogisticRegression()\n",
        "clf.fit(X_train_w, y_train)"
      ],
      "metadata": {
        "colab": {
          "base_uri": "https://localhost:8080/",
          "height": 74
        },
        "id": "Vxh6o9jgPOti",
        "outputId": "fda83414-aae5-45eb-d66e-ce0a63f23483"
      },
      "execution_count": 31,
      "outputs": [
        {
          "output_type": "execute_result",
          "data": {
            "text/plain": [
              "LogisticRegression()"
            ],
            "text/html": [
              "<style>#sk-container-id-2 {color: black;}#sk-container-id-2 pre{padding: 0;}#sk-container-id-2 div.sk-toggleable {background-color: white;}#sk-container-id-2 label.sk-toggleable__label {cursor: pointer;display: block;width: 100%;margin-bottom: 0;padding: 0.3em;box-sizing: border-box;text-align: center;}#sk-container-id-2 label.sk-toggleable__label-arrow:before {content: \"▸\";float: left;margin-right: 0.25em;color: #696969;}#sk-container-id-2 label.sk-toggleable__label-arrow:hover:before {color: black;}#sk-container-id-2 div.sk-estimator:hover label.sk-toggleable__label-arrow:before {color: black;}#sk-container-id-2 div.sk-toggleable__content {max-height: 0;max-width: 0;overflow: hidden;text-align: left;background-color: #f0f8ff;}#sk-container-id-2 div.sk-toggleable__content pre {margin: 0.2em;color: black;border-radius: 0.25em;background-color: #f0f8ff;}#sk-container-id-2 input.sk-toggleable__control:checked~div.sk-toggleable__content {max-height: 200px;max-width: 100%;overflow: auto;}#sk-container-id-2 input.sk-toggleable__control:checked~label.sk-toggleable__label-arrow:before {content: \"▾\";}#sk-container-id-2 div.sk-estimator input.sk-toggleable__control:checked~label.sk-toggleable__label {background-color: #d4ebff;}#sk-container-id-2 div.sk-label input.sk-toggleable__control:checked~label.sk-toggleable__label {background-color: #d4ebff;}#sk-container-id-2 input.sk-hidden--visually {border: 0;clip: rect(1px 1px 1px 1px);clip: rect(1px, 1px, 1px, 1px);height: 1px;margin: -1px;overflow: hidden;padding: 0;position: absolute;width: 1px;}#sk-container-id-2 div.sk-estimator {font-family: monospace;background-color: #f0f8ff;border: 1px dotted black;border-radius: 0.25em;box-sizing: border-box;margin-bottom: 0.5em;}#sk-container-id-2 div.sk-estimator:hover {background-color: #d4ebff;}#sk-container-id-2 div.sk-parallel-item::after {content: \"\";width: 100%;border-bottom: 1px solid gray;flex-grow: 1;}#sk-container-id-2 div.sk-label:hover label.sk-toggleable__label {background-color: #d4ebff;}#sk-container-id-2 div.sk-serial::before {content: \"\";position: absolute;border-left: 1px solid gray;box-sizing: border-box;top: 0;bottom: 0;left: 50%;z-index: 0;}#sk-container-id-2 div.sk-serial {display: flex;flex-direction: column;align-items: center;background-color: white;padding-right: 0.2em;padding-left: 0.2em;position: relative;}#sk-container-id-2 div.sk-item {position: relative;z-index: 1;}#sk-container-id-2 div.sk-parallel {display: flex;align-items: stretch;justify-content: center;background-color: white;position: relative;}#sk-container-id-2 div.sk-item::before, #sk-container-id-2 div.sk-parallel-item::before {content: \"\";position: absolute;border-left: 1px solid gray;box-sizing: border-box;top: 0;bottom: 0;left: 50%;z-index: -1;}#sk-container-id-2 div.sk-parallel-item {display: flex;flex-direction: column;z-index: 1;position: relative;background-color: white;}#sk-container-id-2 div.sk-parallel-item:first-child::after {align-self: flex-end;width: 50%;}#sk-container-id-2 div.sk-parallel-item:last-child::after {align-self: flex-start;width: 50%;}#sk-container-id-2 div.sk-parallel-item:only-child::after {width: 0;}#sk-container-id-2 div.sk-dashed-wrapped {border: 1px dashed gray;margin: 0 0.4em 0.5em 0.4em;box-sizing: border-box;padding-bottom: 0.4em;background-color: white;}#sk-container-id-2 div.sk-label label {font-family: monospace;font-weight: bold;display: inline-block;line-height: 1.2em;}#sk-container-id-2 div.sk-label-container {text-align: center;}#sk-container-id-2 div.sk-container {/* jupyter's `normalize.less` sets `[hidden] { display: none; }` but bootstrap.min.css set `[hidden] { display: none !important; }` so we also need the `!important` here to be able to override the default hidden behavior on the sphinx rendered scikit-learn.org. See: https://github.com/scikit-learn/scikit-learn/issues/21755 */display: inline-block !important;position: relative;}#sk-container-id-2 div.sk-text-repr-fallback {display: none;}</style><div id=\"sk-container-id-2\" class=\"sk-top-container\"><div class=\"sk-text-repr-fallback\"><pre>LogisticRegression()</pre><b>In a Jupyter environment, please rerun this cell to show the HTML representation or trust the notebook. <br />On GitHub, the HTML representation is unable to render, please try loading this page with nbviewer.org.</b></div><div class=\"sk-container\" hidden><div class=\"sk-item\"><div class=\"sk-estimator sk-toggleable\"><input class=\"sk-toggleable__control sk-hidden--visually\" id=\"sk-estimator-id-2\" type=\"checkbox\" checked><label for=\"sk-estimator-id-2\" class=\"sk-toggleable__label sk-toggleable__label-arrow\">LogisticRegression</label><div class=\"sk-toggleable__content\"><pre>LogisticRegression()</pre></div></div></div></div></div>"
            ]
          },
          "metadata": {},
          "execution_count": 31
        }
      ]
    },
    {
      "cell_type": "markdown",
      "source": [
        "Evaluate the performance of the classification model on the testing set with the accuracy, precision, recall and F1 score."
      ],
      "metadata": {
        "id": "Lpa4X7l7PdO_"
      }
    },
    {
      "cell_type": "code",
      "source": [
        "y_pred = clf.predict(X_test_w)\n",
        "fpr, tpr, thresholds = roc_curve(y_test, y_pred)\n",
        "\n",
        "print('Accuracy:', accuracy_score(y_test, y_pred))\n",
        "print('AUC:', auc(fpr, tpr))"
      ],
      "metadata": {
        "colab": {
          "base_uri": "https://localhost:8080/"
        },
        "id": "dK5pgzC6Pd9y",
        "outputId": "d79499d2-e5a2-4329-bcb3-504c515a73a8"
      },
      "execution_count": 32,
      "outputs": [
        {
          "output_type": "stream",
          "name": "stdout",
          "text": [
            "Accuracy: 0.8660287081339713\n",
            "AUC: 0.5\n"
          ]
        }
      ]
    },
    {
      "cell_type": "markdown",
      "source": [
        "# Excercise 3.1\n",
        "\n",
        "Remove stopwords, then predict target using CountVectorizer.\n",
        "\n",
        "use Random Forest classifier"
      ],
      "metadata": {
        "id": "bdkzBNohGAN4"
      }
    },
    {
      "cell_type": "code",
      "source": [
        "# split data into training and validation set\n",
        "X_train, X_test, y_train, y_test = train_test_split(X, y, stratify = df['target'], test_size = 0.3, random_state = 18)"
      ],
      "metadata": {
        "id": "UkUAj-G6aDUc"
      },
      "execution_count": 33,
      "outputs": []
    },
    {
      "cell_type": "code",
      "source": [
        "stop_words = set(stopwords.words('english'))\n",
        "def preprocess(text):\n",
        "    text = text.lower()\n",
        "    text = ''.join([word for word in text if word not in string.punctuation])\n",
        "    tokens = word_tokenize(text)\n",
        "    tokens = [word for word in tokens if word not in stop_words]\n",
        "    return ' '.join(tokens)\n",
        "\n",
        "X_train = X_train.apply(preprocess)\n",
        "X_test = X_test.apply(preprocess)"
      ],
      "metadata": {
        "id": "NcBmTvjDaEKw"
      },
      "execution_count": 34,
      "outputs": []
    },
    {
      "cell_type": "code",
      "source": [
        "from sklearn.feature_extraction.text import CountVectorizer\n",
        "\n",
        "vectorizer = CountVectorizer()\n",
        "\n",
        "X_train_cv = vectorizer.fit_transform(X_train)\n",
        "X_test_cv = vectorizer.transform(X_test)"
      ],
      "metadata": {
        "id": "8lqJW_A8aMQM"
      },
      "execution_count": 47,
      "outputs": []
    },
    {
      "cell_type": "code",
      "source": [
        "#Random Forest\n",
        "rf_classifier = RandomForestClassifier()\n",
        "rf_classifier.fit(X_train_cv, y_train)\n",
        "\n",
        "# Predicción en test\n",
        "y_pred_rf = rf_classifier.predict(X_test_cv)"
      ],
      "metadata": {
        "id": "WXcEvbj6Y20-"
      },
      "execution_count": 50,
      "outputs": []
    },
    {
      "cell_type": "code",
      "source": [
        "# Desempeño\n",
        "fpr, tpr, thresholds = roc_curve(y_test, y_pred_rf)\n",
        "\n",
        "print('Accuracy:', accuracy_score(y_test, y_pred_rf))\n",
        "print('AUC:', auc(fpr, tpr))"
      ],
      "metadata": {
        "colab": {
          "base_uri": "https://localhost:8080/"
        },
        "id": "cuzXC3HQa6AC",
        "outputId": "301f2dbf-36b9-4011-d262-93b7fda1540d"
      },
      "execution_count": 51,
      "outputs": [
        {
          "output_type": "stream",
          "name": "stdout",
          "text": [
            "Accuracy: 0.9647129186602871\n",
            "AUC: 0.8683035714285714\n"
          ]
        }
      ]
    },
    {
      "cell_type": "markdown",
      "source": [
        "Utilizando CountVectorizer con Random Forest se obtiene un mejor desempeño que con el ejercicio de Work2Vec con regresión logística."
      ],
      "metadata": {
        "id": "wiWp-d_9d_fX"
      }
    },
    {
      "cell_type": "markdown",
      "source": [
        "# Excercise 3.2\n",
        "\n",
        "Predict target using TdidfVectorizer.\n",
        "\n",
        "use Random Forest classifier"
      ],
      "metadata": {
        "id": "pIFj3ETiIi4O"
      }
    },
    {
      "cell_type": "code",
      "source": [
        "# split data into training and validation set\n",
        "X_train, X_test, y_train, y_test = train_test_split(X, y, stratify = df['target'], test_size = 0.3, random_state = 18)"
      ],
      "metadata": {
        "id": "KWtJB5FPbe8U"
      },
      "execution_count": 56,
      "outputs": []
    },
    {
      "cell_type": "code",
      "source": [
        "from sklearn.feature_extraction.text import TfidfVectorizer\n",
        "\n",
        "tfidf_vectorizer = TfidfVectorizer()\n",
        "X_train_tfidf = tfidf_vectorizer.fit_transform(X_train)\n",
        "X_test_tfidf = tfidf_vectorizer.transform(X_test)"
      ],
      "metadata": {
        "id": "V24zBchAbsmv"
      },
      "execution_count": 58,
      "outputs": []
    },
    {
      "cell_type": "code",
      "source": [
        "# Random Forest\n",
        "rf_classifier = RandomForestClassifier()\n",
        "rf_classifier.fit(X_train_tfidf, y_train)\n",
        "\n",
        "# Prediction on test data\n",
        "y_pred_rf = rf_classifier.predict(X_test_tfidf)"
      ],
      "metadata": {
        "id": "eoH8Bpmkbv_b"
      },
      "execution_count": 54,
      "outputs": []
    },
    {
      "cell_type": "code",
      "source": [
        "# Performance evaluation\n",
        "fpr, tpr, thresholds = roc_curve(y_test, y_pred_rf)\n",
        "\n",
        "print('Accuracy:', accuracy_score(y_test, y_pred_rf))\n",
        "print('AUC:', auc(fpr, tpr))"
      ],
      "metadata": {
        "colab": {
          "base_uri": "https://localhost:8080/"
        },
        "id": "LYEUFPfmb8xX",
        "outputId": "138082ec-5dfd-4936-e41d-6a41e3384460"
      },
      "execution_count": 59,
      "outputs": [
        {
          "output_type": "stream",
          "name": "stdout",
          "text": [
            "Accuracy: 0.9688995215311005\n",
            "AUC: 0.8839285714285714\n"
          ]
        }
      ]
    },
    {
      "cell_type": "markdown",
      "source": [
        "Manteniendo el modelo Random Forest, se obtiene un mejor desempeño utilizando TdidfVectorizer que CountVectorizer."
      ],
      "metadata": {
        "id": "NsysazF2ePPj"
      }
    },
    {
      "cell_type": "markdown",
      "source": [
        "# Excercise 3.3\n",
        "\n",
        "Predict target using CountVectorizer or TfideVectorizer.\n",
        "\n",
        "choose any classification model and justify why"
      ],
      "metadata": {
        "id": "JIlTBKIeI_bf"
      }
    },
    {
      "cell_type": "code",
      "source": [
        "# split data into training and validation set\n",
        "X_train, X_test, y_train, y_test = train_test_split(X, y, stratify = df['target'], test_size = 0.3, random_state = 18)"
      ],
      "metadata": {
        "id": "Kwy76QDadfGk"
      },
      "execution_count": 58,
      "outputs": []
    },
    {
      "cell_type": "code",
      "source": [
        "stop_words = set(stopwords.words('english'))\n",
        "def preprocess(text):\n",
        "    text = text.lower()\n",
        "    text = ''.join([word for word in text if word not in string.punctuation])\n",
        "    tokens = word_tokenize(text)\n",
        "    tokens = [word for word in tokens if word not in stop_words]\n",
        "    return ' '.join(tokens)\n",
        "\n",
        "X_train = X_train.apply(preprocess)\n",
        "X_test = X_test.apply(preprocess)"
      ],
      "metadata": {
        "id": "zcXTnrG6doTb"
      },
      "execution_count": 59,
      "outputs": []
    },
    {
      "cell_type": "code",
      "source": [
        "tfidf_vectorizer = TfidfVectorizer()\n",
        "X_train_tfidf = tfidf_vectorizer.fit_transform(X_train)\n",
        "X_test_tfidf = tfidf_vectorizer.transform(X_test)"
      ],
      "metadata": {
        "id": "FxDp0rW7druH"
      },
      "execution_count": 62,
      "outputs": []
    },
    {
      "cell_type": "code",
      "source": [
        "# Logistic Regression\n",
        "lr_classifier = LogisticRegression()\n",
        "lr_classifier.fit(X_train_tfidf, y_train)\n",
        "\n",
        "# Predicción\n",
        "y_pred_lr = lr_classifier.predict(X_test_tfidf)\n",
        "# Performance evaluation\n",
        "fpr, tpr, thresholds = roc_curve(y_test, y_pred_lr)\n",
        "\n",
        "print('Accuracy:', accuracy_score(y_test, y_pred_lr))\n",
        "print('AUC:', auc(fpr, tpr))"
      ],
      "metadata": {
        "colab": {
          "base_uri": "https://localhost:8080/"
        },
        "id": "TO0eNsOUdxiT",
        "outputId": "364f780b-7d99-441e-ec03-a3c025792a82"
      },
      "execution_count": 66,
      "outputs": [
        {
          "output_type": "stream",
          "name": "stdout",
          "text": [
            "Accuracy: 0.9479665071770335\n",
            "AUC: 0.8171246053670087\n"
          ]
        }
      ]
    },
    {
      "cell_type": "code",
      "source": [
        "from sklearn.svm import SVC\n",
        "\n",
        "svm_classifier = SVC(kernel='linear')\n",
        "\n",
        "#Entrenamiento del modelo\n",
        "svm_classifier.fit(X_train_tfidf, y_train)\n",
        "\n",
        "# Predicción\n",
        "y_pred_svm = svm_classifier.predict(X_test_tfidf)\n",
        "\n",
        "# Desempeño\n",
        "fpr, tpr, thresholds = roc_curve(y_test, y_pred_svm)\n",
        "\n",
        "print('Accuracy:', accuracy_score(y_test, y_pred_svm))\n",
        "print('AUC:', auc(fpr, tpr))"
      ],
      "metadata": {
        "colab": {
          "base_uri": "https://localhost:8080/"
        },
        "id": "t_fza_3GedQu",
        "outputId": "be5467ce-ba46-4d1a-e957-542dbd120306"
      },
      "execution_count": 69,
      "outputs": [
        {
          "output_type": "stream",
          "name": "stdout",
          "text": [
            "Accuracy: 0.9766746411483254\n",
            "AUC: 0.9223806235201263\n"
          ]
        }
      ]
    },
    {
      "cell_type": "markdown",
      "source": [
        "Se usa TfideVectorizer ya que dió mejores resultados en el ejericio 3.2\n",
        "\n",
        "**Justificación de elección de los modelos:** Se ejecutó el proceso con Regresión Logística y SVM ya que son otros modelos diferentes al ramdom forest que se pueden usar en problemas de clasificación y son efectivos al trabajar con datos de alta dimensionalidad.\n",
        "\n",
        "En la comparación del Accuracy y el AUC, se puede observar que el mejor desempeño se obtiene con el modelo SVM."
      ],
      "metadata": {
        "id": "6nCv53Uud0TI"
      }
    },
    {
      "cell_type": "markdown",
      "source": [
        "# Excercise 3.4\n",
        "\n",
        "Increase and decrece the parameters values vector_size, window and negative then predict the target.\n",
        "\n",
        "Plot the different values of the parameters with the performance of the model.\n",
        "\n",
        "Use a Random Forest classifier and classification model of your choice and justify why."
      ],
      "metadata": {
        "id": "Nv3WOp-oKK8V"
      }
    },
    {
      "cell_type": "markdown",
      "source": [
        "Random Forest classifier:"
      ],
      "metadata": {
        "id": "udXJFJ2TWHnH"
      }
    },
    {
      "cell_type": "markdown",
      "source": [
        "parameter variation: `vector_size`"
      ],
      "metadata": {
        "id": "qI5fsc37Tg3Y"
      }
    },
    {
      "cell_type": "code",
      "source": [
        "def vectorize(sentence,vector_size):\n",
        "    words = sentence.split()\n",
        "    words_vecs = [model.wv[word] for word in words if word in model.wv]\n",
        "    if len(words_vecs) == 0:\n",
        "        return np.zeros(vector_size)\n",
        "    words_vecs = np.array(words_vecs)\n",
        "    return words_vecs.mean(axis=0) #convierte cada oración en un vector promedio de las palabras presentes en esa oración."
      ],
      "metadata": {
        "id": "5sVT5anDQJfQ"
      },
      "execution_count": 10,
      "outputs": []
    },
    {
      "cell_type": "code",
      "source": [
        "accuracy_scores = []\n",
        "auc_scores = []\n",
        "vector_sizes = [20, 50, 100, 150, 200,250]\n",
        "\n",
        "for vector_size in vector_sizes:\n",
        "    sentences = [sentence.split() for sentence in X_train]\n",
        "    model = Word2Vec(sentences, vector_size=vector_size, window=5, negative=20, min_count=1, workers=4)\n",
        "\n",
        "    X_train_w = np.array([vectorize(sentence,vector_size) for sentence in X_train])\n",
        "    X_test_w = np.array([vectorize(sentence,vector_size) for sentence in X_test])\n",
        "\n",
        "    clf = RandomForestClassifier()\n",
        "    clf.fit(X_train_w, y_train)\n",
        "\n",
        "    y_pred = clf.predict(X_test_w)\n",
        "    fpr, tpr, thresholds = roc_curve(y_test, y_pred)\n",
        "\n",
        "    accuracy_scores.append(accuracy_score(y_test, y_pred))\n",
        "    auc_scores.append(auc(fpr, tpr))"
      ],
      "metadata": {
        "id": "3HR9JTxti8O9"
      },
      "execution_count": 26,
      "outputs": []
    },
    {
      "cell_type": "code",
      "source": [
        "import matplotlib.pyplot as plt\n",
        "\n",
        "plt.plot(vector_sizes, accuracy_scores, label='Accuracy')\n",
        "plt.plot(vector_sizes, auc_scores, label='AUC')\n",
        "plt.xlabel('Vector Size')\n",
        "plt.ylabel('Score')\n",
        "plt.title('Vector Size variation')\n",
        "plt.legend()\n",
        "plt.show()"
      ],
      "metadata": {
        "colab": {
          "base_uri": "https://localhost:8080/",
          "height": 472
        },
        "id": "p9S1k0ZCi_OV",
        "outputId": "4e7b4ab3-1270-40b5-ab0e-0833416f5da0"
      },
      "execution_count": 28,
      "outputs": [
        {
          "output_type": "display_data",
          "data": {
            "text/plain": [
              "<Figure size 640x480 with 1 Axes>"
            ],
            "image/png": "[encoded data removed]"
          },
          "metadata": {}
        }
      ]
    },
    {
      "cell_type": "code",
      "source": [
        "data = {'Vector Size': vector_sizes, 'Accuracy': accuracy_scores, 'AUC': auc_scores}\n",
        "df_results = pd.DataFrame(data)\n",
        "print(df_results)"
      ],
      "metadata": {
        "colab": {
          "base_uri": "https://localhost:8080/"
        },
        "id": "fFRV44ZkTKeu",
        "outputId": "ad5c3d2d-f03f-4ae9-ad9f-ce6b025a2fd9"
      },
      "execution_count": 29,
      "outputs": [
        {
          "output_type": "stream",
          "name": "stdout",
          "text": [
            "   Vector Size  Accuracy       AUC\n",
            "0           20  0.927033  0.750321\n",
            "1           50  0.918062  0.711178\n",
            "2          100  0.921053  0.711018\n",
            "3          150  0.932416  0.755315\n",
            "4          200  0.922847  0.727148\n",
            "5          250  0.930622  0.752392\n"
          ]
        }
      ]
    },
    {
      "cell_type": "markdown",
      "source": [
        "Se observa que la variación del tamaño del vector afecta levemente el rendimiento, obtiendo el mejor desemepeño cuando el vector_size es igual a 150."
      ],
      "metadata": {
        "id": "K_WYVWDzfPmL"
      }
    },
    {
      "cell_type": "markdown",
      "source": [
        "parameter variation: `window`"
      ],
      "metadata": {
        "id": "VVsQ2rSMTynE"
      }
    },
    {
      "cell_type": "code",
      "source": [
        "accuracy_scores = []\n",
        "auc_scores = []\n",
        "windows = [1, 3, 5, 7, 9, 11]\n",
        "\n",
        "for window in windows:\n",
        "    sentences = [sentence.split() for sentence in X_train]\n",
        "    model = Word2Vec(sentences, vector_size=100, window=window, negative=20, min_count=1, workers=4)\n",
        "\n",
        "    X_train_w = np.array([vectorize(sentence,100) for sentence in X_train])\n",
        "    X_test_w = np.array([vectorize(sentence,100) for sentence in X_test])\n",
        "\n",
        "    clf = RandomForestClassifier()\n",
        "    clf.fit(X_train_w, y_train)\n",
        "\n",
        "    y_pred = clf.predict(X_test_w)\n",
        "    fpr, tpr, thresholds = roc_curve(y_test, y_pred)\n",
        "\n",
        "    accuracy_scores.append(accuracy_score(y_test, y_pred))\n",
        "    auc_scores.append(auc(fpr, tpr))"
      ],
      "metadata": {
        "id": "X9WOfmtZkXWA"
      },
      "execution_count": 38,
      "outputs": []
    },
    {
      "cell_type": "code",
      "source": [
        "plt.plot(windows, accuracy_scores, label='Accuracy')\n",
        "plt.plot(windows, auc_scores, label='AUC')\n",
        "plt.xlabel('Window Size')\n",
        "plt.ylabel('Score')\n",
        "plt.title('Window Size Variation')\n",
        "plt.legend()\n",
        "plt.show()\n",
        "\n",
        "data = {'Window Size': windows, 'Accuracy': accuracy_scores, 'AUC': auc_scores}\n",
        "df_results = pd.DataFrame(data)\n",
        "print(df_results)"
      ],
      "metadata": {
        "colab": {
          "base_uri": "https://localhost:8080/",
          "height": 593
        },
        "id": "eUWr_MZSTzji",
        "outputId": "ccd48fe4-3286-4ddf-9a12-2d34112ce303"
      },
      "execution_count": 39,
      "outputs": [
        {
          "output_type": "display_data",
          "data": {
            "text/plain": [
              "<Figure size 640x480 with 1 Axes>"
            ],
            "image/png": "[encoded data removed]"
          },
          "metadata": {}
        },
        {
          "output_type": "stream",
          "name": "stdout",
          "text": [
            "   Window Size  Accuracy       AUC\n",
            "0            1  0.904904  0.645089\n",
            "1            3  0.917464  0.697625\n",
            "2            5  0.925837  0.726988\n",
            "3            7  0.931818  0.760630\n",
            "4            9  0.940191  0.795654\n",
            "5           11  0.946770  0.818321\n"
          ]
        }
      ]
    },
    {
      "cell_type": "markdown",
      "source": [
        "Se observa que la variación del tamaño de la venta afecta el rendimiento, obtiendo un mejor desemepeño cuando el parámetro window se sube a 11."
      ],
      "metadata": {
        "id": "nud7ToAiffyE"
      }
    },
    {
      "cell_type": "markdown",
      "source": [
        "parameter variation: `negative`"
      ],
      "metadata": {
        "id": "HXwksOx_Tz70"
      }
    },
    {
      "cell_type": "code",
      "source": [
        "accuracy_scores = []\n",
        "auc_scores = []\n",
        "negatives = [10, 15, 20, 25, 30, 50]\n",
        "\n",
        "for negative in negatives:\n",
        "    sentences = [sentence.split() for sentence in X_train]\n",
        "    model = Word2Vec(sentences, vector_size=100, window=5, negative=negative, min_count=1, workers=4)\n",
        "\n",
        "    X_train_w = np.array([vectorize(sentence,100) for sentence in X_train])\n",
        "    X_test_w = np.array([vectorize(sentence,100) for sentence in X_test])\n",
        "\n",
        "    clf = RandomForestClassifier()\n",
        "    clf.fit(X_train_w, y_train)\n",
        "\n",
        "    y_pred = clf.predict(X_test_w)\n",
        "    fpr, tpr, thresholds = roc_curve(y_test, y_pred)\n",
        "\n",
        "    accuracy_scores.append(accuracy_score(y_test, y_pred))\n",
        "    auc_scores.append(auc(fpr, tpr))"
      ],
      "metadata": {
        "id": "qQxWShCEUQY_"
      },
      "execution_count": 40,
      "outputs": []
    },
    {
      "cell_type": "code",
      "source": [
        "plt.plot(negatives, accuracy_scores, label='Accuracy')\n",
        "plt.plot(negatives, auc_scores, label='AUC')\n",
        "plt.xlabel('Negative Samples')\n",
        "plt.ylabel('Score')\n",
        "plt.title('Negative Samples Variation')\n",
        "plt.legend()\n",
        "plt.show()\n",
        "\n",
        "data = {'Negative Samples': negatives, 'Accuracy': accuracy_scores, 'AUC': auc_scores}\n",
        "df_results = pd.DataFrame(data)\n",
        "print(df_results)"
      ],
      "metadata": {
        "colab": {
          "base_uri": "https://localhost:8080/",
          "height": 593
        },
        "id": "yKatM4c1UOCI",
        "outputId": "4f1488fa-d0d7-4b47-ed98-8deb5c27b698"
      },
      "execution_count": 41,
      "outputs": [
        {
          "output_type": "display_data",
          "data": {
            "text/plain": [
              "<Figure size 640x480 with 1 Axes>"
            ],
            "image/png": "[encoded data removed]"
          },
          "metadata": {}
        },
        {
          "output_type": "stream",
          "name": "stdout",
          "text": [
            "   Negative Samples  Accuracy       AUC\n",
            "0                10  0.918660  0.698315\n",
            "1                15  0.928230  0.739690\n",
            "2                20  0.932416  0.759089\n",
            "3                25  0.933014  0.753774\n",
            "4                30  0.921651  0.715137\n",
            "5                50  0.898325  0.626196\n"
          ]
        }
      ]
    },
    {
      "cell_type": "markdown",
      "source": [
        "Se observa que el mejor desempeño se obtiene cuando el parámetro negative sampling está entre 20 y 25."
      ],
      "metadata": {
        "id": "F9lm8pzLft_v"
      }
    },
    {
      "cell_type": "markdown",
      "source": [
        "Running best parameters `vector_size, window and negative` (All at the same time)"
      ],
      "metadata": {
        "id": "E278ShYhT-Vb"
      }
    },
    {
      "cell_type": "code",
      "source": [
        "sentences = [sentence.split() for sentence in X_train]\n",
        "model = Word2Vec(sentences, vector_size=250, window=11, negative=20, min_count=1, workers=4)\n",
        "\n",
        "X_train_w = np.array([vectorize(sentence,250) for sentence in X_train])\n",
        "X_test_w = np.array([vectorize(sentence,250) for sentence in X_test])\n",
        "\n",
        "clf = RandomForestClassifier()\n",
        "clf.fit(X_train_w, y_train)\n",
        "\n",
        "y_pred = clf.predict(X_test_w)\n",
        "fpr, tpr, thresholds = roc_curve(y_test, y_pred)\n",
        "\n",
        "print('Accuracy:', accuracy_score(y_test, y_pred))\n",
        "print('AUC:', auc(fpr, tpr))"
      ],
      "metadata": {
        "colab": {
          "base_uri": "https://localhost:8080/"
        },
        "id": "fOLBJ5_SUs1q",
        "outputId": "9b138652-876d-4a0a-ad0d-6316d29d9983"
      },
      "execution_count": 42,
      "outputs": [
        {
          "output_type": "stream",
          "name": "stdout",
          "text": [
            "Accuracy: 0.94377990430622\n",
            "AUC: 0.8147074782951855\n"
          ]
        }
      ]
    },
    {
      "cell_type": "markdown",
      "source": [
        "Entrenando un modelo de Random Forest con los méjores parámetros encontrados en Word2Vec, se obtiene un accuracy de 0.94 y un auc de 0.81. Se puede observar que pese a que este desempeño es mejor que el random forest con los parámetros iniciales, sigue sin superar el random forest que se entrenó con data vectorizada con CountVectorizer y TfideVectorizer."
      ],
      "metadata": {
        "id": "Jiv6DC3ugXY8"
      }
    },
    {
      "cell_type": "markdown",
      "source": [
        "**XGBClassifier():** Se repite el proceso de variación de parámetros de Word2Vec, en esta ocasión con XGBClassifier() ya que se identificó que es un modelo no lineal más sensible a captar las variaciones en los embeddings de Word2Vec. (Modelos lineales como Logistic Regresion y SVM con Kernel lineal, fueron probados pero presentaron dificultades para capturar las variaciones de word2Vec, resultando en valores de accuracy y AUC muy similares)"
      ],
      "metadata": {
        "id": "2vDROlRHWkbm"
      }
    },
    {
      "cell_type": "markdown",
      "source": [
        "parameter variation: vector_size"
      ],
      "metadata": {
        "id": "oBs76G9xW6DV"
      }
    },
    {
      "cell_type": "code",
      "source": [
        "from xgboost import XGBClassifier"
      ],
      "metadata": {
        "id": "4HJfJNUBcw3D"
      },
      "execution_count": 72,
      "outputs": []
    },
    {
      "cell_type": "code",
      "source": [
        "accuracy_scores = []\n",
        "auc_scores = []\n",
        "vector_sizes = [20, 50, 100, 150, 200,250]\n",
        "\n",
        "for vector_size in vector_sizes:\n",
        "    sentences = [sentence.split() for sentence in X_train]\n",
        "    model = Word2Vec(sentences, vector_size=vector_size, window=5, negative=20, min_count=1, workers=4)\n",
        "\n",
        "    X_train_w = np.array([vectorize(sentence,vector_size) for sentence in X_train])\n",
        "    X_test_w = np.array([vectorize(sentence,vector_size) for sentence in X_test])\n",
        "\n",
        "    clf = XGBClassifier()\n",
        "    clf.fit(X_train_w, y_train)\n",
        "\n",
        "    y_pred = clf.predict(X_test_w)\n",
        "    fpr, tpr, thresholds = roc_curve(y_test, y_pred)\n",
        "\n",
        "    accuracy_scores.append(accuracy_score(y_test, y_pred))\n",
        "    auc_scores.append(auc(fpr, tpr))"
      ],
      "metadata": {
        "id": "3qDj7bOaa3DW"
      },
      "execution_count": 73,
      "outputs": []
    },
    {
      "cell_type": "code",
      "source": [
        "plt.plot(vector_sizes, accuracy_scores, label='Accuracy')\n",
        "plt.plot(vector_sizes, auc_scores, label='AUC')\n",
        "plt.xlabel('Vector Size')\n",
        "plt.ylabel('Score')\n",
        "plt.title('Vector Size variation')\n",
        "plt.legend()\n",
        "plt.show()\n",
        "\n",
        "data = {'Vector_size': vector_sizes, 'Accuracy': accuracy_scores, 'AUC': auc_scores}\n",
        "df_results = pd.DataFrame(data)\n",
        "print(df_results)"
      ],
      "metadata": {
        "colab": {
          "base_uri": "https://localhost:8080/",
          "height": 593
        },
        "id": "4LLSNDThYGsU",
        "outputId": "3b4f83ea-f653-4218-9ae3-33f94be05634"
      },
      "execution_count": 75,
      "outputs": [
        {
          "output_type": "display_data",
          "data": {
            "text/plain": [
              "<Figure size 640x480 with 1 Axes>"
            ],
            "image/png": "[encoded data removed]"
          },
          "metadata": {}
        },
        {
          "output_type": "stream",
          "name": "stdout",
          "text": [
            "   Vector_size  Accuracy       AUC\n",
            "0           20  0.934809  0.800094\n",
            "1           50  0.928230  0.777427\n",
            "2          100  0.942584  0.804583\n",
            "3          150  0.937201  0.812796\n",
            "4          200  0.933612  0.788082\n",
            "5          250  0.940789  0.835623\n"
          ]
        }
      ]
    },
    {
      "cell_type": "markdown",
      "source": [
        "parameter variation: window"
      ],
      "metadata": {
        "id": "p0SfrLPoXq_S"
      }
    },
    {
      "cell_type": "code",
      "source": [
        "accuracy_scores = []\n",
        "auc_scores = []\n",
        "windows = [1, 3, 5, 7, 9, 11]\n",
        "\n",
        "for window in windows:\n",
        "    sentences = [sentence.split() for sentence in X_train]\n",
        "    model = Word2Vec(sentences, vector_size=250, window=window, negative=20, min_count=1, workers=4)\n",
        "\n",
        "    X_train_w = np.array([vectorize(sentence,250) for sentence in X_train])\n",
        "    X_test_w = np.array([vectorize(sentence,250) for sentence in X_test])\n",
        "\n",
        "    clf = XGBClassifier()\n",
        "    clf.fit(X_train_w, y_train)\n",
        "\n",
        "    y_pred = clf.predict(X_test_w)\n",
        "    fpr, tpr, thresholds = roc_curve(y_test, y_pred)\n",
        "\n",
        "    accuracy_scores.append(accuracy_score(y_test, y_pred))\n",
        "    auc_scores.append(auc(fpr, tpr))\n",
        "\n",
        "plt.plot(windows, accuracy_scores, label='Accuracy')\n",
        "plt.plot(windows, auc_scores, label='AUC')\n",
        "plt.xlabel('Window Size')\n",
        "plt.ylabel('Score')\n",
        "plt.title('Window Size Variation')\n",
        "plt.legend()\n",
        "plt.show()\n",
        "\n",
        "data = {'Window Size': windows, 'Accuracy': accuracy_scores, 'AUC': auc_scores}\n",
        "df_results = pd.DataFrame(data)\n",
        "print(df_results)"
      ],
      "metadata": {
        "colab": {
          "base_uri": "https://localhost:8080/",
          "height": 593
        },
        "id": "94PEvFZpXvda",
        "outputId": "6576f2f1-bbb7-4f61-b9d0-7ec39c40ae76"
      },
      "execution_count": 76,
      "outputs": [
        {
          "output_type": "display_data",
          "data": {
            "text/plain": [
              "<Figure size 640x480 with 1 Axes>"
            ],
            "image/png": "[encoded data removed]"
          },
          "metadata": {}
        },
        {
          "output_type": "stream",
          "name": "stdout",
          "text": [
            "   Window Size  Accuracy       AUC\n",
            "0            1  0.930024  0.755821\n",
            "1            3  0.934809  0.800094\n",
            "2            5  0.944976  0.836153\n",
            "3            7  0.952751  0.850076\n",
            "4            9  0.946770  0.840963\n",
            "5           11  0.947967  0.847314\n"
          ]
        }
      ]
    },
    {
      "cell_type": "markdown",
      "source": [
        "parameter variation: negative"
      ],
      "metadata": {
        "id": "MeVEkb-xZwmM"
      }
    },
    {
      "cell_type": "code",
      "source": [
        "accuracy_scores = []\n",
        "auc_scores = []\n",
        "negatives = [10, 15, 20, 25, 30, 50]\n",
        "\n",
        "for negative in negatives:\n",
        "    sentences = [sentence.split() for sentence in X_train]\n",
        "    model = Word2Vec(sentences, vector_size=250, window=5, negative=negative, min_count=1, workers=4)\n",
        "\n",
        "    X_train_w = np.array([vectorize(sentence,250) for sentence in X_train])\n",
        "    X_test_w = np.array([vectorize(sentence,250) for sentence in X_test])\n",
        "\n",
        "    clf = XGBClassifier()\n",
        "    clf.fit(X_train_w, y_train)\n",
        "\n",
        "    y_pred = clf.predict(X_test_w)\n",
        "    fpr, tpr, thresholds = roc_curve(y_test, y_pred)\n",
        "\n",
        "    accuracy_scores.append(accuracy_score(y_test, y_pred))\n",
        "    auc_scores.append(auc(fpr, tpr))\n",
        "\n",
        "plt.plot(negatives, accuracy_scores, label='Accuracy')\n",
        "plt.plot(negatives, auc_scores, label='AUC')\n",
        "plt.xlabel('Negative Samples')\n",
        "plt.ylabel('Score')\n",
        "plt.title('Negative Samples Variation')\n",
        "plt.legend()\n",
        "plt.show()\n",
        "\n",
        "data = {'Negative Samples': negatives, 'Accuracy': accuracy_scores, 'AUC': auc_scores}\n",
        "df_results = pd.DataFrame(data)\n",
        "print(df_results)"
      ],
      "metadata": {
        "colab": {
          "base_uri": "https://localhost:8080/",
          "height": 593
        },
        "id": "fWN1q5mxZ3Qy",
        "outputId": "9b950219-72c6-4885-c520-904471780fa8"
      },
      "execution_count": 77,
      "outputs": [
        {
          "output_type": "display_data",
          "data": {
            "text/plain": [
              "<Figure size 640x480 with 1 Axes>"
            ],
            "image/png": "[encoded data removed]"
          },
          "metadata": {}
        },
        {
          "output_type": "stream",
          "name": "stdout",
          "text": [
            "   Negative Samples  Accuracy       AUC\n",
            "0                10  0.938995  0.813832\n",
            "1                15  0.938397  0.805939\n",
            "2                20  0.943780  0.827915\n",
            "3                25  0.950359  0.843035\n",
            "4                30  0.943780  0.827915\n",
            "5                50  0.910287  0.695368\n"
          ]
        }
      ]
    },
    {
      "cell_type": "markdown",
      "source": [
        "Running best parameters vector_size, window and negative (All at the same time)"
      ],
      "metadata": {
        "id": "TnOUPumYaCH3"
      }
    },
    {
      "cell_type": "code",
      "source": [
        "import numpy as np\n",
        "sentences = [sentence.split() for sentence in X_train]\n",
        "model = Word2Vec(sentences, vector_size=250, window=11, negative=25, min_count=1, workers=4)\n",
        "\n",
        "X_train_w = np.array([vectorize(sentence, 250) for sentence in X_train])\n",
        "X_test_w = np.array([vectorize(sentence, 250) for sentence in X_test])\n",
        "\n",
        "clf = XGBClassifier()\n",
        "clf.fit(X_train_w, y_train)\n",
        "\n",
        "y_pred = clf.predict(X_test_w)\n",
        "fpr, tpr, thresholds = roc_curve(y_test, y_pred)\n",
        "\n",
        "print('Accuracy:', accuracy_score(y_test, y_pred))\n",
        "print('AUC:', auc(fpr, tpr))"
      ],
      "metadata": {
        "colab": {
          "base_uri": "https://localhost:8080/"
        },
        "id": "c8NVEF9LaF6q",
        "outputId": "875ff423-55e0-429a-9033-6a2b1f7fba28"
      },
      "execution_count": 79,
      "outputs": [
        {
          "output_type": "stream",
          "name": "stdout",
          "text": [
            "Accuracy: 0.9521531100478469\n",
            "AUC: 0.8478443172849249\n"
          ]
        }
      ]
    },
    {
      "cell_type": "markdown",
      "source": [
        "Con XGboost y los méjores parámetros encontrados en Word2Vec, se obtiene un accuracy de 0.95 y un auc de 0.84. Estos valores, aunque demuestran un mejor desempeño que el random forest y sus méjores parámetros encontrados en Word2Vec, siguen sin superar los modelos entrenados con con data vectorizada con CountVectorizer y TfideVectorizer.\n",
        "\n",
        "Se puede concluir que para este caso, las técnicas de vectorización CountVectorizer y TfideVectorizer proporcionaron mejores modelos que aquellos entrenados con data vectorizada con Word2Vec."
      ],
      "metadata": {
        "id": "UmWEQLU1iKif"
      }
    }
  ]
}